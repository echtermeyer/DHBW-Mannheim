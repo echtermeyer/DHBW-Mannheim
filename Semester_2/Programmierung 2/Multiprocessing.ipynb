{
 "cells": [
  {
   "cell_type": "code",
   "execution_count": 2,
   "id": "1c7a14ed-ca6a-4a5c-a4a0-c6f68bef27ce",
   "metadata": {},
   "outputs": [],
   "source": [
    "from multiprocessing import Pool\n",
    "\n",
    "import time"
   ]
  },
  {
   "cell_type": "code",
   "execution_count": 3,
   "id": "8d9f9861-bd67-4b20-be6d-0ffea3488dbc",
   "metadata": {},
   "outputs": [
    {
     "data": {
      "text/plain": [
       "10022.5"
      ]
     },
     "execution_count": 3,
     "metadata": {},
     "output_type": "execute_result"
    }
   ],
   "source": [
    "def some_function(x):\n",
    "    return x ** 4 + x ** 1/4 + 20\n",
    "\n",
    "some_function(10)"
   ]
  },
  {
   "cell_type": "code",
   "execution_count": 6,
   "id": "5147c5b4-809d-41d4-938c-835a491a9476",
   "metadata": {},
   "outputs": [
    {
     "name": "stdout",
     "output_type": "stream",
     "text": [
      "Time taken: 6.2007715702056885\n"
     ]
    }
   ],
   "source": [
    "# Normal way of doing it\n",
    "start = time.time()\n",
    "for i in range(10_000_000):\n",
    "    some_function(i)\n",
    "end = time.time()\n",
    "print(f\"Time taken: {end - start}\")"
   ]
  },
  {
   "cell_type": "code",
   "execution_count": null,
   "id": "d2fd8c04-dc33-4d92-8c38-f514f101439e",
   "metadata": {},
   "outputs": [],
   "source": [
    "# Multithreading with pool\n",
    "start = time.time()\n",
    "pool = Pool(processes=5)\n",
    "input_list = range(0, 1)\n",
    "result = pool.map(some_function, input_list)\n",
    "end = time.time()\n",
    "print(f\"Time taken: {end - start}\")"
   ]
  },
  {
   "cell_type": "code",
   "execution_count": 31,
   "id": "21c4e2f7-85b4-4ac4-95ed-f20fb7df2580",
   "metadata": {},
   "outputs": [
    {
     "name": "stdout",
     "output_type": "stream",
     "text": [
      "Time taken: 23.4176664352417\n"
     ]
    }
   ],
   "source": [
    "# Async Processing\n",
    "start = time.time()\n",
    "pool = Pool(processes=4)\n",
    "input_list = range(0, 1_000_000_000)\n",
    "result = pool.map_async(some_function, input_list)\n",
    "end = time.time()\n",
    "print(f\"Time taken: {end - start}\")"
   ]
  }
 ],
 "metadata": {
  "kernelspec": {
   "display_name": "Python 3 (ipykernel)",
   "language": "python",
   "name": "python3"
  },
  "language_info": {
   "codemirror_mode": {
    "name": "ipython",
    "version": 3
   },
   "file_extension": ".py",
   "mimetype": "text/x-python",
   "name": "python",
   "nbconvert_exporter": "python",
   "pygments_lexer": "ipython3",
   "version": "3.9.7"
  }
 },
 "nbformat": 4,
 "nbformat_minor": 5
}
