{
 "cells": [
  {
   "cell_type": "code",
   "execution_count": 3,
   "id": "0753cbae-387b-4964-bf7c-b2c9dde5bc8b",
   "metadata": {},
   "outputs": [
    {
     "data": {
      "text/plain": [
       "(True, None)"
      ]
     },
     "execution_count": 3,
     "metadata": {},
     "output_type": "execute_result"
    }
   ],
   "source": [
    "a, b = None, None\n",
    "id(a) == id(b)\n",
    "a = True\n",
    "a, b"
   ]
  },
  {
   "cell_type": "code",
   "execution_count": 6,
   "id": "d052f9f6-819a-43dd-a455-40d436913d3b",
   "metadata": {},
   "outputs": [
    {
     "data": {
      "text/plain": [
       "25"
      ]
     },
     "execution_count": 6,
     "metadata": {},
     "output_type": "execute_result"
    }
   ],
   "source": [
    "def square(x: int) -> int:\n",
    "    return x ** 2\n",
    "\n",
    "f = square\n",
    "f(5)"
   ]
  },
  {
   "cell_type": "code",
   "execution_count": 12,
   "id": "1d27ff67-554d-4f56-a2ab-438bb66bdc94",
   "metadata": {},
   "outputs": [
    {
     "data": {
      "text/plain": [
       "['0', '1', '2', '3', '4', '5', '6', '7', '8', '9']"
      ]
     },
     "execution_count": 12,
     "metadata": {},
     "output_type": "execute_result"
    }
   ],
   "source": [
    "def my_mapping(fn, iterable):\n",
    "    return [fn(i) for i in iterable]\n",
    "\n",
    "my_mapping(str, range(10))"
   ]
  },
  {
   "cell_type": "code",
   "execution_count": 13,
   "id": "b249aa9f-d8b9-450c-bdd7-e336d0d543e8",
   "metadata": {},
   "outputs": [],
   "source": [
    "def my_closure(val1):\n",
    "    def square(val2):\n",
    "        return val1 ** val2\n",
    "    return square"
   ]
  },
  {
   "cell_type": "code",
   "execution_count": 18,
   "id": "3545a178-3178-458a-b68f-b6caebdc7563",
   "metadata": {},
   "outputs": [],
   "source": [
    "a = my_closure\n",
    "dec_9 = a(9)"
   ]
  },
  {
   "cell_type": "code",
   "execution_count": 25,
   "id": "3fefd110-c228-4434-b56c-971be1ca069f",
   "metadata": {},
   "outputs": [
    {
     "data": {
      "text/plain": [
       "1.7320508075688772"
      ]
     },
     "execution_count": 25,
     "metadata": {},
     "output_type": "execute_result"
    }
   ],
   "source": [
    "dec_9(0.25)"
   ]
  },
  {
   "cell_type": "code",
   "execution_count": 67,
   "id": "bf795e45-8f8a-4a0e-bfe6-0545de0b20f4",
   "metadata": {},
   "outputs": [
    {
     "name": "stdout",
     "output_type": "stream",
     "text": [
      "Ichbin die 2. Zweit\n"
     ]
    },
    {
     "data": {
      "text/plain": [
       "512"
      ]
     },
     "execution_count": 67,
     "metadata": {},
     "output_type": "execute_result"
    }
   ],
   "source": [
    "def my_deco(fn):\n",
    "    def wrapper(*args, **kwargs):\n",
    "        print(\"Ichbin die Startzeit\")\n",
    "        return fn(*args, **kwargs)\n",
    "    return wrapper\n",
    "\n",
    "class my_deco_class:\n",
    "    def __init__(self, orig_fn):\n",
    "        self.orig_fn = orig_fn\n",
    "    def __call__(self, *args, **kwargs):\n",
    "        print(\"Ichbin die 2. Zweit\")\n",
    "        return self.orig_fn(*args, **kwargs)\n",
    "\n",
    "@my_deco\n",
    "def cube1(d, e, f):\n",
    "    return d ** 3\n",
    "    \n",
    "\n",
    "# @my_deco_class\n",
    "def cube2(d, e, f):\n",
    "    return d ** 3\n",
    "\n",
    "a = my_deco_class(cube2)\n",
    "a(8, 9, 10)\n",
    "# print(cube1(10, 5, f=20))\n",
    "# print(cube2(11, 20, 112))"
   ]
  },
  {
   "cell_type": "code",
   "execution_count": 44,
   "id": "4da404fd-4af7-4c30-b81b-c4bce5b7026d",
   "metadata": {},
   "outputs": [
    {
     "name": "stdout",
     "output_type": "stream",
     "text": [
      "4 4 4\n"
     ]
    }
   ],
   "source": [
    "def test(*, a, b, c):\n",
    "    print(a, b, c)\n",
    "    \n",
    "test(a=4, b=4, c=4)"
   ]
  },
  {
   "cell_type": "code",
   "execution_count": 70,
   "id": "772733ce-45f9-4fe5-8fe5-2b73246b701e",
   "metadata": {},
   "outputs": [
    {
     "name": "stdout",
     "output_type": "stream",
     "text": [
      "entered\n",
      "12\n",
      "exited\n",
      "12\n"
     ]
    }
   ],
   "source": [
    "class ContextM:\n",
    "    def __init__(self, value):\n",
    "        self.v = value\n",
    "    def __enter__(self):\n",
    "        print(\"entered\")\n",
    "        return self.v\n",
    "    def __exit__(self, e, f, g):\n",
    "        print(\"exited\")\n",
    "        return self.v\n",
    "    \n",
    "with ContextM(12) as f:\n",
    "    var = f\n",
    "    print(var)\n",
    "print(var)"
   ]
  }
 ],
 "metadata": {
  "kernelspec": {
   "display_name": "Python 3 (ipykernel)",
   "language": "python",
   "name": "python3"
  },
  "language_info": {
   "codemirror_mode": {
    "name": "ipython",
    "version": 3
   },
   "file_extension": ".py",
   "mimetype": "text/x-python",
   "name": "python",
   "nbconvert_exporter": "python",
   "pygments_lexer": "ipython3",
   "version": "3.9.7"
  }
 },
 "nbformat": 4,
 "nbformat_minor": 5
}
