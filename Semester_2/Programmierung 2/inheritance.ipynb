{
 "cells": [
  {
   "cell_type": "code",
   "execution_count": 20,
   "id": "44877301-fa8f-494c-8fcf-6c3bc21ccc5c",
   "metadata": {},
   "outputs": [
    {
     "name": "stdout",
     "output_type": "stream",
     "text": [
      "E init\n",
      "E init\n",
      "D init\n"
     ]
    }
   ],
   "source": [
    "class Employee:\n",
    "    raise_amount = 1.04\n",
    "    \n",
    "    def __init__(self, first, last, pay):\n",
    "        print(\"E init\")\n",
    "        self.first = first\n",
    "        self.last = last\n",
    "        self.pay = pay\n",
    "        self.email = f\"{first}.{last}@company.com\"\n",
    "        \n",
    "    def fullname(self):\n",
    "        return f\"{self.first} {self.last}\"\n",
    "    \n",
    "    def apply_raise(self):\n",
    "        self.pay = int(self.pay * self.raise_amount)\n",
    "        \n",
    "# emp1 = Employee(\"Eric\", \"Echt\", 90000)\n",
    "# emp1.apply_raise()\n",
    "# emp1.pay\n",
    "\n",
    "class Developer(Employee):\n",
    "    def __init__(self, first, last, pay, lang):\n",
    "        super().__init__(first, last, pay)\n",
    "        Employee.__init__(self, first, last, pay)\n",
    "        print(\"D init\")\n",
    "        \n",
    "class Manager(Employee):\n",
    "    def __init__(self, first, last, pay, employees=None):\n",
    "        super().__init__(first, last, pay)\n",
    "        if employees is None:\n",
    "            self.employees = []\n",
    "        else:\n",
    "            self.employees = employees\n",
    "\n",
    "    def add_emp(self, emp):\n",
    "        if emp not in self.employees:\n",
    "            self.employees.append(emp)\n",
    "\n",
    "    def remove_emp(self, emp):\n",
    "        if emp in self.employees:\n",
    "            self.employees.remove(emp)\n",
    "\n",
    "    def print_emps(self):\n",
    "        for emp in self.employees:\n",
    "            print('-->', emp.fullname())\n",
    "\n",
    "dev1 = Developer(\"Tom\", \"Riddle\", 80, \"lang\")"
   ]
  },
  {
   "cell_type": "code",
   "execution_count": 6,
   "id": "9fa505a9-bd1c-448d-8f8e-6995c4a111f9",
   "metadata": {},
   "outputs": [],
   "source": [
    "class Developer(Employee):\n",
    "    pass\n",
    "\n",
    "dev1 = Developer(\"Tom\", \"Riddle\", 80)"
   ]
  },
  {
   "cell_type": "code",
   "execution_count": 16,
   "id": "060a8bba-4aea-4eae-84a8-5395d5d2e271",
   "metadata": {},
   "outputs": [
    {
     "name": "stdout",
     "output_type": "stream",
     "text": [
      "101\n",
      "105\n"
     ]
    }
   ],
   "source": [
    "print(dev1.pay)\n",
    "dev1.apply_raise()\n",
    "print(dev1.pay)"
   ]
  },
  {
   "cell_type": "code",
   "execution_count": 24,
   "id": "095f11d3-9e95-465f-8b4c-07e9515d7f1e",
   "metadata": {},
   "outputs": [
    {
     "name": "stdout",
     "output_type": "stream",
     "text": [
      "Getter\n",
      "Eric Echt\n",
      "Setter\n",
      "Getter\n",
      "2Eric Echt\n",
      "deleted\n"
     ]
    },
    {
     "data": {
      "text/plain": [
       "{'first': None, 'last': None, 'email': 'Eric.Echt@company.com'}"
      ]
     },
     "execution_count": 24,
     "metadata": {},
     "output_type": "execute_result"
    }
   ],
   "source": [
    "class Employee:\n",
    "    def __init__(self, first, last):\n",
    "        self.first = first\n",
    "        self.last = last\n",
    "        self.email = f\"{first}.{last}@company.com\"\n",
    "        \n",
    "    @property\n",
    "    def fullname(self):\n",
    "        print(\"Getter\")\n",
    "        return f\"{self.first} {self.last}\"\n",
    "    \n",
    "    @fullname.setter\n",
    "    def fullname(self, name):\n",
    "        print(\"Setter\")\n",
    "        self.first = name[0]\n",
    "        self.last = name[1]\n",
    "    \n",
    "    @fullname.deleter\n",
    "    def fullname(self):\n",
    "        print(\"deleted\")\n",
    "        self.first = None\n",
    "        self.last = None\n",
    "    \n",
    "emp1 = Employee(\"Eric\", \"Echt\")\n",
    "print(emp1.fullname)\n",
    "emp1.fullname = [\"2Eric\", \"Echt\"]\n",
    "print(emp1.fullname)\n",
    "del emp1.fullname\n",
    "emp1.__dict__"
   ]
  },
  {
   "cell_type": "code",
   "execution_count": null,
   "id": "84771af2-108d-414a-abe3-902c083fc293",
   "metadata": {},
   "outputs": [],
   "source": []
  }
 ],
 "metadata": {
  "kernelspec": {
   "display_name": "Python 3 (ipykernel)",
   "language": "python",
   "name": "python3"
  },
  "language_info": {
   "codemirror_mode": {
    "name": "ipython",
    "version": 3
   },
   "file_extension": ".py",
   "mimetype": "text/x-python",
   "name": "python",
   "nbconvert_exporter": "python",
   "pygments_lexer": "ipython3",
   "version": "3.9.7"
  }
 },
 "nbformat": 4,
 "nbformat_minor": 5
}
