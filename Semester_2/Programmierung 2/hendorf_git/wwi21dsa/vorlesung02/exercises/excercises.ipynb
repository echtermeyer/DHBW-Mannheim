{
 "cells": [
  {
   "cell_type": "code",
   "execution_count": 1,
   "id": "a8273660-46b7-4972-bbb3-d8d8cad768d6",
   "metadata": {
    "pycharm": {
     "name": "#%%\n"
    }
   },
   "outputs": [
    {
     "data": {
      "text/html": [
       "<style>\n",
       "table {float:left}\n",
       "</style>\n"
      ],
      "text/plain": [
       "<IPython.core.display.HTML object>"
      ]
     },
     "metadata": {},
     "output_type": "display_data"
    }
   ],
   "source": [
    "%%html\n",
    "<style>\n",
    "table {float:left}\n",
    "</style>"
   ]
  },
  {
   "cell_type": "markdown",
   "id": "a5a65718-9b6d-460d-ab3b-810b4e192d8d",
   "metadata": {
    "pycharm": {
     "name": "#%% md\n"
    }
   },
   "source": [
    "# Gruppen-Übungen"
   ]
  },
  {
   "cell_type": "markdown",
   "id": "512411cd-8039-4eea-a17e-4e3e9ea12631",
   "metadata": {
    "pycharm": {
     "name": "#%% md\n"
    },
    "tags": []
   },
   "source": [
    "# Environments\n",
    "\n",
    "30 Minuten Gruppenarbeit, 5-6er Gruppen.\n",
    "\n",
    "| Sitzreihe | Gruppe links | Gruppe rechts |\n",
    "|-----------|--------------|---------------|\n",
    "| Reihe 1   | Gruppe 1     | Gruppe 2      |\n",
    "| Reihe 2   | Gruppe 1     | Gruppe 2      |\n",
    "| Reihe 3   | Gruppe 3     | Gruppe 4      |\n",
    "| Reihe 4   | Gruppe 3     | Gruppe 4      |\n",
    "| Reihe 5   | Gruppe 5     | -             |\n",
    "| Reihe 6   | Gruppe 5     | -             |\n"
   ]
  },
  {
   "cell_type": "markdown",
   "id": "5c4614de-eb1e-48d5-98ac-9ac3162948f5",
   "metadata": {
    "tags": [],
    "pycharm": {
     "name": "#%% md\n"
    }
   },
   "source": [
    "[conda Dokumentation](https://docs.conda.io/projects/conda/en/latest/user-guide/tasks/manage-environments.html)\n",
    "\n",
    "Aufgabe:\n",
    "- Setzt zusammen eine komplette neue Umgebung auf.\n",
    "- Nutzt dafür die *shell**\n",
    "- Eine Person interagiert am Computer mit der Shell\n",
    "- Eine Person dokumentiert, macht Notizen\n",
    "- Alle anderen helfen bei der Lösung und recherchieren bei Bedarf mit"
   ]
  },
  {
   "cell_type": "markdown",
   "id": "3cb57ef3-0546-438c-a9a4-ddeff1129c69",
   "metadata": {
    "tags": [],
    "pycharm": {
     "name": "#%% md\n"
    }
   },
   "source": [
    "## Aufgabe 1\n",
    "\n",
    "Installiert eine neue Umgebung Namens `dhbw_ds_env_01`mit folgenden Anforderungen:\n",
    "\n",
    "- Python 3.**7**\n",
    "- Pandas \n",
    "\n",
    "* Beschreibt und diskutiert was bei der Installation passiert. \n",
    "* Was gilt es zu beachten?"
   ]
  },
  {
   "cell_type": "markdown",
   "id": "c4be0e12-e93d-436a-a3d1-d332a17eb273",
   "metadata": {
    "pycharm": {
     "name": "#%% md\n"
    }
   },
   "source": [
    "> Bericht hier"
   ]
  },
  {
   "cell_type": "markdown",
   "id": "9504e938-aaa5-4a99-bf4c-6dafa36f1ca3",
   "metadata": {
    "tags": [],
    "pycharm": {
     "name": "#%% md\n"
    }
   },
   "source": [
    "## Aufgabe 2\n",
    "\n",
    "Installiert eine weitere Umgebung Namens `dhbw_ds_env_02`mit folgenden Anforderungen:\n",
    "\n",
    "- Python 3.**10**\n",
    "- Pandas \n",
    "\n",
    "* Beschreibt und diskutiert was bei der Installation passiert. \n",
    "* Was sind die Unterschiede zwischen `dhbw_ds_env_01` und `dhbw_ds_env_02`?\n",
    "* Was gilt es zu beachten?"
   ]
  },
  {
   "cell_type": "markdown",
   "id": "bb2056ae-a190-42df-8f40-65a22de70fb8",
   "metadata": {
    "tags": [],
    "pycharm": {
     "name": "#%% md\n"
    }
   },
   "source": [
    "## Aufgabe 3\n",
    "\n",
    "Installiert eine weitere Umgebung Namens `dhbw_ds_env_03`mit folgenden Anforderungen:\n",
    "\n",
    "- Python 3.**10**\n",
    "- Pandas **0.21**\n",
    "\n",
    "* Beschreibt und diskutiert was bei der Installation passiert. \n",
    "* Was sind die Unterschiede zwischen `dhbw_ds_env_01` oder `dhbw_ds_env_02`?\n",
    "* Was gilt es zu beachten oder zu berichten?"
   ]
  },
  {
   "cell_type": "markdown",
   "id": "14cd43d2-d363-4a7b-a82b-32cadafde048",
   "metadata": {
    "tags": [],
    "pycharm": {
     "name": "#%% md\n"
    }
   },
   "source": [
    "## Aufgabe 4 \n",
    "\n",
    "**Aktualisiert** das Environment `dhbw_ds_env_01` auf python 3.**10**\n",
    "\n",
    "* Beschreibt und diskutiert was bei den Update passiert. \n",
    "* Was sind die Unterschiede zwischen `dhbw_ds_env_01` oder `dhbw_ds_env_02`?\n",
    "* Was gilt es zu beachten oder zu berichten?"
   ]
  },
  {
   "cell_type": "markdown",
   "id": "6663324b-ad61-4b44-bc10-aba658809413",
   "metadata": {
    "tags": [],
    "pycharm": {
     "name": "#%% md\n"
    }
   },
   "source": [
    "---\n",
    "# Pro-Tip / Bonus\n",
    "\n",
    "Für `conda`gibt es einen *drop-in* Erstatz `mamba`. Mamba nutzt effizientere Solver und ist etliches schneller als conda beim Auflösen der Abhängigkeiten.\n",
    "\n",
    "[Mamba](https://github.com/mamba-org/mamba)"
   ]
  },
  {
   "cell_type": "markdown",
   "id": "8990f586-2039-475d-a639-13180cbc86ad",
   "metadata": {
    "pycharm": {
     "name": "#%% md\n"
    }
   },
   "source": [
    "# Hausaufgabe 1\n",
    "\n",
    "\n",
    "Wiederholt Aufgabe 2 und 3 mit `pip`und virtualenv.\n",
    "\n",
    "https://docs.python-guide.org/dev/virtualenvs/"
   ]
  },
  {
   "cell_type": "code",
   "execution_count": null,
   "id": "0dde68af-61df-4cee-aaff-1d6a9a6a09b7",
   "metadata": {
    "pycharm": {
     "name": "#%%\n"
    }
   },
   "outputs": [],
   "source": []
  }
 ],
 "metadata": {
  "kernelspec": {
   "display_name": "Python 3 (ipykernel)",
   "language": "python",
   "name": "python3"
  },
  "language_info": {
   "codemirror_mode": {
    "name": "ipython",
    "version": 3
   },
   "file_extension": ".py",
   "mimetype": "text/x-python",
   "name": "python",
   "nbconvert_exporter": "python",
   "pygments_lexer": "ipython3",
   "version": "3.10.4"
  }
 },
 "nbformat": 4,
 "nbformat_minor": 5
}