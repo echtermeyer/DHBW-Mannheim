{
 "cells": [
  {
   "cell_type": "code",
   "execution_count": 1,
   "id": "50d4c6b3-9cf6-4e77-af66-fbfdbbe0490b",
   "metadata": {},
   "outputs": [
    {
     "ename": "AttributeError",
     "evalue": "'A' object has no attribute 'hallo'",
     "output_type": "error",
     "traceback": [
      "\u001b[1;31m---------------------------------------------------------------------------\u001b[0m",
      "\u001b[1;31mAttributeError\u001b[0m                            Traceback (most recent call last)",
      "\u001b[1;32m~\\AppData\\Local\\Temp/ipykernel_4680/1186746527.py\u001b[0m in \u001b[0;36m<module>\u001b[1;34m\u001b[0m\n\u001b[0;32m      4\u001b[0m \u001b[1;33m\u001b[0m\u001b[0m\n\u001b[0;32m      5\u001b[0m \u001b[0ma\u001b[0m \u001b[1;33m=\u001b[0m \u001b[0mA\u001b[0m\u001b[1;33m(\u001b[0m\u001b[1;33m)\u001b[0m\u001b[1;33m\u001b[0m\u001b[1;33m\u001b[0m\u001b[0m\n\u001b[1;32m----> 6\u001b[1;33m \u001b[0ma\u001b[0m\u001b[1;33m.\u001b[0m\u001b[0mhallo\u001b[0m\u001b[1;33m\u001b[0m\u001b[1;33m\u001b[0m\u001b[0m\n\u001b[0m",
      "\u001b[1;31mAttributeError\u001b[0m: 'A' object has no attribute 'hallo'"
     ]
    }
   ],
   "source": [
    "class A(dict):\n",
    "    def __getattr_(self, name):\n",
    "        return self.name\n",
    "\n",
    "a = A()\n",
    "a.hallo"
   ]
  },
  {
   "cell_type": "code",
   "execution_count": null,
   "id": "f2dc12c7-673b-4113-bf3b-8b27a565775e",
   "metadata": {},
   "outputs": [],
   "source": [
    "class Dummy(object):\n",
    "    def __getattr__(self, attr):\n",
    "        return attr.upper()\n",
    "    \n",
    "d = Dummy()\n",
    "d.does_not_exist # 'DOES_NOT_EXIST'\n",
    "d.what_about_this_one  # 'WHAT_ABOUT_THIS_ONE'\n",
    "d.h = 1\n",
    "print(d.h)\n",
    "dir(d)"
   ]
  },
  {
   "cell_type": "code",
   "execution_count": null,
   "id": "bcb4511e-5662-4c3b-ab36-e3e43012a603",
   "metadata": {},
   "outputs": [],
   "source": []
  },
  {
   "cell_type": "code",
   "execution_count": null,
   "id": "15c4f0f8-47a5-45fb-9183-049daf0ef058",
   "metadata": {},
   "outputs": [],
   "source": []
  },
  {
   "cell_type": "code",
   "execution_count": null,
   "id": "6646dafc-87d6-4474-a0ca-c7c594d3ae97",
   "metadata": {},
   "outputs": [],
   "source": []
  },
  {
   "cell_type": "code",
   "execution_count": null,
   "id": "fd5cec5f-06f4-491b-a957-f5f0217c8779",
   "metadata": {},
   "outputs": [],
   "source": []
  },
  {
   "cell_type": "code",
   "execution_count": null,
   "id": "3f49bff9-512a-4d91-a83d-e2210f48816e",
   "metadata": {},
   "outputs": [],
   "source": []
  },
  {
   "cell_type": "code",
   "execution_count": null,
   "id": "dc958edb-867c-4745-9aeb-e4e9f79da564",
   "metadata": {},
   "outputs": [],
   "source": []
  }
 ],
 "metadata": {
  "kernelspec": {
   "display_name": "Python 3 (ipykernel)",
   "language": "python",
   "name": "python3"
  },
  "language_info": {
   "codemirror_mode": {
    "name": "ipython",
    "version": 3
   },
   "file_extension": ".py",
   "mimetype": "text/x-python",
   "name": "python",
   "nbconvert_exporter": "python",
   "pygments_lexer": "ipython3",
   "version": "3.9.7"
  }
 },
 "nbformat": 4,
 "nbformat_minor": 5
}
