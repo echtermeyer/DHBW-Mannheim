{
 "cells": [
  {
   "cell_type": "code",
   "execution_count": 1,
   "id": "05b980cb-4860-4a98-b3b7-98b04d85b661",
   "metadata": {},
   "outputs": [],
   "source": [
    "class Auto:\n",
    "    def __init__(self, name):\n",
    "        self.name = name\n",
    "        \n",
    "    def __str__(self):\n",
    "        return \"str\"\n",
    "    \n",
    "    def __repr__(self):\n",
    "        return \"repr\"\n",
    "    \n",
    "    def __dir__(self):\n",
    "        return [1, 2, 3]\n",
    "    \n",
    "    def __getitem__(self, key):\n",
    "        item = self.__dict__[key]\n",
    "        print(item)\n",
    "        \n",
    "    def __setitem__(self):\n",
    "        pass\n",
    "    \n",
    "a = Auto(\"Hallo\")"
   ]
  },
  {
   "cell_type": "code",
   "execution_count": 2,
   "id": "c591a75f-5aac-4f35-9ee9-67ee68201c52",
   "metadata": {},
   "outputs": [
    {
     "name": "stdout",
     "output_type": "stream",
     "text": [
      "str\n"
     ]
    },
    {
     "data": {
      "text/plain": [
       "repr"
      ]
     },
     "execution_count": 2,
     "metadata": {},
     "output_type": "execute_result"
    }
   ],
   "source": [
    "print(a)\n",
    "a"
   ]
  },
  {
   "cell_type": "code",
   "execution_count": 3,
   "id": "4f3e96b1-93f2-40df-8132-9c07e9ed59e6",
   "metadata": {},
   "outputs": [
    {
     "data": {
      "text/plain": [
       "('str', 'repr', 'str', 'repr')"
      ]
     },
     "execution_count": 3,
     "metadata": {},
     "output_type": "execute_result"
    }
   ],
   "source": [
    "a.__str__(), a.__repr__(), str(a), repr(a)"
   ]
  },
  {
   "cell_type": "code",
   "execution_count": 4,
   "id": "3425d7e8-ad45-4104-bc42-a76e32b1999c",
   "metadata": {},
   "outputs": [
    {
     "data": {
      "text/plain": [
       "[1, 2, 3]"
      ]
     },
     "execution_count": 4,
     "metadata": {},
     "output_type": "execute_result"
    }
   ],
   "source": [
    "dir(a)"
   ]
  },
  {
   "cell_type": "code",
   "execution_count": 5,
   "id": "617adfdb-0335-46db-98e9-1ad5658fe9e8",
   "metadata": {},
   "outputs": [
    {
     "ename": "TypeError",
     "evalue": "__setitem__() takes 1 positional argument but 3 were given",
     "output_type": "error",
     "traceback": [
      "\u001b[1;31m---------------------------------------------------------------------------\u001b[0m",
      "\u001b[1;31mTypeError\u001b[0m                                 Traceback (most recent call last)",
      "\u001b[1;32m~\\AppData\\Local\\Temp/ipykernel_19048/2539478077.py\u001b[0m in \u001b[0;36m<module>\u001b[1;34m\u001b[0m\n\u001b[1;32m----> 1\u001b[1;33m \u001b[0ma\u001b[0m\u001b[1;33m[\u001b[0m\u001b[1;36m0\u001b[0m\u001b[1;33m]\u001b[0m \u001b[1;33m=\u001b[0m \u001b[1;36m10\u001b[0m\u001b[1;33m\u001b[0m\u001b[1;33m\u001b[0m\u001b[0m\n\u001b[0m",
      "\u001b[1;31mTypeError\u001b[0m: __setitem__() takes 1 positional argument but 3 were given"
     ]
    }
   ],
   "source": [
    "a[0] = 10"
   ]
  },
  {
   "cell_type": "code",
   "execution_count": null,
   "id": "462b6dd0-1af3-433a-82a4-cb23dccfdb78",
   "metadata": {},
   "outputs": [],
   "source": [
    "class Student:\n",
    "    def __init__(self, x):\n",
    "        self.x = x\n",
    "        self.a = 1\n",
    "        print(\"hi\")\n",
    "        \n",
    "    def hello(self):\n",
    "        pass\n",
    "\n",
    "s1 = Student(1)\n",
    "s1.name = \"Eric\"\n",
    "s1.nname = \"Echtermeyer\"\n",
    "repr(s1.__dict__)\n",
    "s1.__init__(2)\n",
    "repr(s1.__dict__)"
   ]
  },
  {
   "cell_type": "code",
   "execution_count": 6,
   "id": "6627067d-88a4-40d7-9aa2-e44bea8773e2",
   "metadata": {},
   "outputs": [
    {
     "ename": "NameError",
     "evalue": "name 's1' is not defined",
     "output_type": "error",
     "traceback": [
      "\u001b[1;31m---------------------------------------------------------------------------\u001b[0m",
      "\u001b[1;31mNameError\u001b[0m                                 Traceback (most recent call last)",
      "\u001b[1;32m~\\AppData\\Local\\Temp/ipykernel_19048/3673135799.py\u001b[0m in \u001b[0;36m<module>\u001b[1;34m\u001b[0m\n\u001b[1;32m----> 1\u001b[1;33m \u001b[0mdir\u001b[0m\u001b[1;33m(\u001b[0m\u001b[0ms1\u001b[0m\u001b[1;33m)\u001b[0m\u001b[1;33m\u001b[0m\u001b[1;33m\u001b[0m\u001b[0m\n\u001b[0m",
      "\u001b[1;31mNameError\u001b[0m: name 's1' is not defined"
     ]
    }
   ],
   "source": [
    "dir(s1)"
   ]
  },
  {
   "cell_type": "code",
   "execution_count": 18,
   "id": "13c845b5-eb0a-431a-a6b4-5c9e5abce43f",
   "metadata": {},
   "outputs": [
    {
     "name": "stdout",
     "output_type": "stream",
     "text": [
      "hallo\n",
      "hallo\n",
      "2\n"
     ]
    },
    {
     "data": {
      "text/plain": [
       "5"
      ]
     },
     "execution_count": 18,
     "metadata": {},
     "output_type": "execute_result"
    }
   ],
   "source": [
    "class PainInYourAss:\n",
    "    idx = 0\n",
    "    amount = 10\n",
    "    \n",
    "    def __init__(hdf, x):\n",
    "        hdf.idx = 5\n",
    "        hdf.x = x\n",
    "        hdf.a = 12\n",
    "        PainInYourAss.idx += 1\n",
    "        hdf.trans = [1, 2, 3, 4]\n",
    "        print(\"hallo\")\n",
    "        \n",
    "    def __getitem__(hdf, pos):\n",
    "        print(\"__getitem__ entered\")\n",
    "        return hdf.trans[pos]\n",
    "    \n",
    "    def __reversed__(hdf):\n",
    "        return hdf.trans[::-1]\n",
    "    \n",
    "    def __call__(hdf):\n",
    "        print(\"sAp iSt nIcHt pLeItE\")\n",
    "        \n",
    "    def __add__(hdf, other):\n",
    "        return hdf.x + other.a\n",
    "        \n",
    "    def getIn(hdf):\n",
    "        print(hdf)\n",
    "        \n",
    "    @classmethod\n",
    "    def raise_amount(cls, x):\n",
    "        cls.amount = x\n",
    "        \n",
    "    @classmethod\n",
    "    def from_array(cls, array):\n",
    "        return cls(array[0])\n",
    "        \n",
    "pain1 = PainInYourAss(11)\n",
    "pain1.x\n",
    "# pain1.getIn()\n",
    "# print(pain1)\n",
    "# PainInYourAss.getIn(pain1)\n",
    "pain2 = PainInYourAss(1)\n",
    "print(PainInYourAss.idx)\n",
    "pain2.idx"
   ]
  },
  {
   "cell_type": "code",
   "execution_count": 19,
   "id": "ff5af1a9-e8bb-4e08-b7f4-3041667d906c",
   "metadata": {},
   "outputs": [
    {
     "name": "stdout",
     "output_type": "stream",
     "text": [
      "5\n",
      "5\n",
      "2\n"
     ]
    }
   ],
   "source": [
    "print(pain1.idx)\n",
    "print(pain2.idx)\n",
    "print(PainInYourAss.idx)"
   ]
  },
  {
   "cell_type": "code",
   "execution_count": 20,
   "id": "a9691ce7-eb68-456c-9c4f-998f7cf2dafc",
   "metadata": {},
   "outputs": [
    {
     "name": "stdout",
     "output_type": "stream",
     "text": [
      "{'idx': 5, 'x': 11, 'a': 12, 'trans': [1, 2, 3, 4]}\n",
      "{'__module__': '__main__', 'idx': 2, 'amount': 10, '__init__': <function PainInYourAss.__init__ at 0x000001E341D27CA0>, '__getitem__': <function PainInYourAss.__getitem__ at 0x000001E341D27790>, '__reversed__': <function PainInYourAss.__reversed__ at 0x000001E341D278B0>, '__call__': <function PainInYourAss.__call__ at 0x000001E341D27820>, '__add__': <function PainInYourAss.__add__ at 0x000001E341D27D30>, 'getIn': <function PainInYourAss.getIn at 0x000001E341D27EE0>, 'raise_amount': <classmethod object at 0x000001E341D25040>, 'from_array': <classmethod object at 0x000001E341D25070>, '__dict__': <attribute '__dict__' of 'PainInYourAss' objects>, '__weakref__': <attribute '__weakref__' of 'PainInYourAss' objects>, '__doc__': None}\n",
      "{'idx': 190, 'x': 11, 'a': 12, 'trans': [1, 2, 3, 4]}\n"
     ]
    }
   ],
   "source": [
    "print(pain1.__dict__)\n",
    "print(PainInYourAss.__dict__)\n",
    "pain1.idx = 190\n",
    "print(pain1.__dict__)"
   ]
  },
  {
   "cell_type": "code",
   "execution_count": 21,
   "id": "a2baa060-9c87-4bd7-b39d-cbbf179f921b",
   "metadata": {},
   "outputs": [
    {
     "name": "stdout",
     "output_type": "stream",
     "text": [
      "10 10 10\n",
      "20 20 20\n"
     ]
    }
   ],
   "source": [
    "print(PainInYourAss.amount, pain1.amount, pain2.amount)\n",
    "pain1.raise_amount(20)\n",
    "print(PainInYourAss.amount, pain1.amount, pain2.amount)"
   ]
  },
  {
   "cell_type": "code",
   "execution_count": 22,
   "id": "74da99fb-5ad0-4a6d-9aa4-4029a9268b51",
   "metadata": {},
   "outputs": [
    {
     "name": "stdout",
     "output_type": "stream",
     "text": [
      "hallo\n"
     ]
    },
    {
     "data": {
      "text/plain": [
       "<__main__.PainInYourAss at 0x1e341d25f10>"
      ]
     },
     "execution_count": 22,
     "metadata": {},
     "output_type": "execute_result"
    }
   ],
   "source": [
    "PainInYourAss.from_array([9])"
   ]
  },
  {
   "cell_type": "code",
   "execution_count": 23,
   "id": "c26104e7-5eed-4efa-8c0d-2ed1dedb834e",
   "metadata": {},
   "outputs": [
    {
     "name": "stdout",
     "output_type": "stream",
     "text": [
      "__getitem__ entered\n",
      "1\n"
     ]
    }
   ],
   "source": [
    "print(pain1[0])"
   ]
  },
  {
   "cell_type": "code",
   "execution_count": 24,
   "id": "c323d31e-5001-433e-af0e-1c8f9f08634f",
   "metadata": {},
   "outputs": [
    {
     "name": "stdout",
     "output_type": "stream",
     "text": [
      "[4, 3, 2, 1]\n"
     ]
    }
   ],
   "source": [
    "print(reversed(pain1))"
   ]
  },
  {
   "cell_type": "code",
   "execution_count": 25,
   "id": "10b8e2f8-96be-4e12-b241-599b961b742f",
   "metadata": {},
   "outputs": [
    {
     "name": "stdout",
     "output_type": "stream",
     "text": [
      "sAp iSt nIcHt pLeItE\n"
     ]
    }
   ],
   "source": [
    "pain1()"
   ]
  },
  {
   "cell_type": "code",
   "execution_count": 26,
   "id": "a1503698-6168-4173-9b8f-4acb9a624603",
   "metadata": {},
   "outputs": [
    {
     "data": {
      "text/plain": [
       "23"
      ]
     },
     "execution_count": 26,
     "metadata": {},
     "output_type": "execute_result"
    }
   ],
   "source": [
    "pain1 + pain2"
   ]
  },
  {
   "cell_type": "code",
   "execution_count": null,
   "id": "0515988d-63d3-4806-8c6c-3a311efe7753",
   "metadata": {},
   "outputs": [],
   "source": []
  }
 ],
 "metadata": {
  "kernelspec": {
   "display_name": "Python 3 (ipykernel)",
   "language": "python",
   "name": "python3"
  },
  "language_info": {
   "codemirror_mode": {
    "name": "ipython",
    "version": 3
   },
   "file_extension": ".py",
   "mimetype": "text/x-python",
   "name": "python",
   "nbconvert_exporter": "python",
   "pygments_lexer": "ipython3",
   "version": "3.9.7"
  }
 },
 "nbformat": 4,
 "nbformat_minor": 5
}
