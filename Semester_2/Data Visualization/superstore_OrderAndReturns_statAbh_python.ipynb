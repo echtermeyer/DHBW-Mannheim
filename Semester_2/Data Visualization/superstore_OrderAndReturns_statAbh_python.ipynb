{
 "cells": [
  {
   "cell_type": "code",
   "execution_count": 1,
   "metadata": {},
   "outputs": [],
   "source": [
    "import pandas as pd"
   ]
  },
  {
   "cell_type": "code",
   "execution_count": 2,
   "metadata": {},
   "outputs": [],
   "source": [
    "superstore=pd.read_csv(\"Superstore_OrderAndReturns.csv\")\n",
    "superstore=superstore.drop([\"Row ID\",\"Order ID\",\"Postal Code\"],axis=True)"
   ]
  },
  {
   "cell_type": "code",
   "execution_count": 3,
   "metadata": {
    "scrolled": true
   },
   "outputs": [
    {
     "data": {
      "text/html": [
       "<div>\n",
       "<style scoped>\n",
       "    .dataframe tbody tr th:only-of-type {\n",
       "        vertical-align: middle;\n",
       "    }\n",
       "\n",
       "    .dataframe tbody tr th {\n",
       "        vertical-align: top;\n",
       "    }\n",
       "\n",
       "    .dataframe thead th {\n",
       "        text-align: right;\n",
       "    }\n",
       "</style>\n",
       "<table border=\"1\" class=\"dataframe\">\n",
       "  <thead>\n",
       "    <tr style=\"text-align: right;\">\n",
       "      <th></th>\n",
       "      <th>orderReturned</th>\n",
       "      <th>Order Date</th>\n",
       "      <th>Ship Date</th>\n",
       "      <th>Ship Mode</th>\n",
       "      <th>Customer ID</th>\n",
       "      <th>Customer Name</th>\n",
       "      <th>Segment</th>\n",
       "      <th>Country</th>\n",
       "      <th>City</th>\n",
       "      <th>State</th>\n",
       "      <th>Region</th>\n",
       "      <th>Product ID</th>\n",
       "      <th>Category</th>\n",
       "      <th>Sub-Category</th>\n",
       "      <th>Product Name</th>\n",
       "      <th>Sales</th>\n",
       "      <th>Quantity</th>\n",
       "      <th>Discount</th>\n",
       "      <th>Profit</th>\n",
       "    </tr>\n",
       "  </thead>\n",
       "  <tbody>\n",
       "    <tr>\n",
       "      <th>0</th>\n",
       "      <td>False</td>\n",
       "      <td>2016-11-08</td>\n",
       "      <td>2016-11-11</td>\n",
       "      <td>Second Class</td>\n",
       "      <td>CG-12520</td>\n",
       "      <td>Claire Gute</td>\n",
       "      <td>Consumer</td>\n",
       "      <td>United States</td>\n",
       "      <td>Henderson</td>\n",
       "      <td>Kentucky</td>\n",
       "      <td>South</td>\n",
       "      <td>FUR-BO-10001798</td>\n",
       "      <td>Furniture</td>\n",
       "      <td>Bookcases</td>\n",
       "      <td>Bush Somerset Collection Bookcase</td>\n",
       "      <td>261.9600</td>\n",
       "      <td>2</td>\n",
       "      <td>0.00</td>\n",
       "      <td>41.9136</td>\n",
       "    </tr>\n",
       "    <tr>\n",
       "      <th>1</th>\n",
       "      <td>False</td>\n",
       "      <td>2016-11-08</td>\n",
       "      <td>2016-11-11</td>\n",
       "      <td>Second Class</td>\n",
       "      <td>CG-12520</td>\n",
       "      <td>Claire Gute</td>\n",
       "      <td>Consumer</td>\n",
       "      <td>United States</td>\n",
       "      <td>Henderson</td>\n",
       "      <td>Kentucky</td>\n",
       "      <td>South</td>\n",
       "      <td>FUR-CH-10000454</td>\n",
       "      <td>Furniture</td>\n",
       "      <td>Chairs</td>\n",
       "      <td>Hon Deluxe Fabric Upholstered Stacking Chairs,...</td>\n",
       "      <td>731.9400</td>\n",
       "      <td>3</td>\n",
       "      <td>0.00</td>\n",
       "      <td>219.5820</td>\n",
       "    </tr>\n",
       "    <tr>\n",
       "      <th>2</th>\n",
       "      <td>False</td>\n",
       "      <td>2016-06-12</td>\n",
       "      <td>2016-06-16</td>\n",
       "      <td>Second Class</td>\n",
       "      <td>DV-13045</td>\n",
       "      <td>Darrin Van Huff</td>\n",
       "      <td>Corporate</td>\n",
       "      <td>United States</td>\n",
       "      <td>Los Angeles</td>\n",
       "      <td>California</td>\n",
       "      <td>West</td>\n",
       "      <td>OFF-LA-10000240</td>\n",
       "      <td>Office Supplies</td>\n",
       "      <td>Labels</td>\n",
       "      <td>Self-Adhesive Address Labels for Typewriters b...</td>\n",
       "      <td>14.6200</td>\n",
       "      <td>2</td>\n",
       "      <td>0.00</td>\n",
       "      <td>6.8714</td>\n",
       "    </tr>\n",
       "    <tr>\n",
       "      <th>3</th>\n",
       "      <td>False</td>\n",
       "      <td>2015-10-11</td>\n",
       "      <td>2015-10-18</td>\n",
       "      <td>Standard Class</td>\n",
       "      <td>SO-20335</td>\n",
       "      <td>Sean O'Donnell</td>\n",
       "      <td>Consumer</td>\n",
       "      <td>United States</td>\n",
       "      <td>Fort Lauderdale</td>\n",
       "      <td>Florida</td>\n",
       "      <td>South</td>\n",
       "      <td>FUR-TA-10000577</td>\n",
       "      <td>Furniture</td>\n",
       "      <td>Tables</td>\n",
       "      <td>Bretford CR4500 Series Slim Rectangular Table</td>\n",
       "      <td>957.5775</td>\n",
       "      <td>5</td>\n",
       "      <td>0.45</td>\n",
       "      <td>-383.0310</td>\n",
       "    </tr>\n",
       "    <tr>\n",
       "      <th>4</th>\n",
       "      <td>False</td>\n",
       "      <td>2015-10-11</td>\n",
       "      <td>2015-10-18</td>\n",
       "      <td>Standard Class</td>\n",
       "      <td>SO-20335</td>\n",
       "      <td>Sean O'Donnell</td>\n",
       "      <td>Consumer</td>\n",
       "      <td>United States</td>\n",
       "      <td>Fort Lauderdale</td>\n",
       "      <td>Florida</td>\n",
       "      <td>South</td>\n",
       "      <td>OFF-ST-10000760</td>\n",
       "      <td>Office Supplies</td>\n",
       "      <td>Storage</td>\n",
       "      <td>Eldon Fold 'N Roll Cart System</td>\n",
       "      <td>22.3680</td>\n",
       "      <td>2</td>\n",
       "      <td>0.20</td>\n",
       "      <td>2.5164</td>\n",
       "    </tr>\n",
       "  </tbody>\n",
       "</table>\n",
       "</div>"
      ],
      "text/plain": [
       "   orderReturned  Order Date   Ship Date       Ship Mode Customer ID  \\\n",
       "0          False  2016-11-08  2016-11-11    Second Class    CG-12520   \n",
       "1          False  2016-11-08  2016-11-11    Second Class    CG-12520   \n",
       "2          False  2016-06-12  2016-06-16    Second Class    DV-13045   \n",
       "3          False  2015-10-11  2015-10-18  Standard Class    SO-20335   \n",
       "4          False  2015-10-11  2015-10-18  Standard Class    SO-20335   \n",
       "\n",
       "     Customer Name    Segment        Country             City       State  \\\n",
       "0      Claire Gute   Consumer  United States        Henderson    Kentucky   \n",
       "1      Claire Gute   Consumer  United States        Henderson    Kentucky   \n",
       "2  Darrin Van Huff  Corporate  United States      Los Angeles  California   \n",
       "3   Sean O'Donnell   Consumer  United States  Fort Lauderdale     Florida   \n",
       "4   Sean O'Donnell   Consumer  United States  Fort Lauderdale     Florida   \n",
       "\n",
       "  Region       Product ID         Category Sub-Category  \\\n",
       "0  South  FUR-BO-10001798        Furniture    Bookcases   \n",
       "1  South  FUR-CH-10000454        Furniture       Chairs   \n",
       "2   West  OFF-LA-10000240  Office Supplies       Labels   \n",
       "3  South  FUR-TA-10000577        Furniture       Tables   \n",
       "4  South  OFF-ST-10000760  Office Supplies      Storage   \n",
       "\n",
       "                                        Product Name     Sales  Quantity  \\\n",
       "0                  Bush Somerset Collection Bookcase  261.9600         2   \n",
       "1  Hon Deluxe Fabric Upholstered Stacking Chairs,...  731.9400         3   \n",
       "2  Self-Adhesive Address Labels for Typewriters b...   14.6200         2   \n",
       "3      Bretford CR4500 Series Slim Rectangular Table  957.5775         5   \n",
       "4                     Eldon Fold 'N Roll Cart System   22.3680         2   \n",
       "\n",
       "   Discount    Profit  \n",
       "0      0.00   41.9136  \n",
       "1      0.00  219.5820  \n",
       "2      0.00    6.8714  \n",
       "3      0.45 -383.0310  \n",
       "4      0.20    2.5164  "
      ]
     },
     "execution_count": 3,
     "metadata": {},
     "output_type": "execute_result"
    }
   ],
   "source": [
    "superstore.head()"
   ]
  },
  {
   "cell_type": "code",
   "execution_count": 4,
   "metadata": {},
   "outputs": [
    {
     "data": {
      "text/plain": [
       "orderReturned       bool\n",
       "Order Date        object\n",
       "Ship Date         object\n",
       "Ship Mode         object\n",
       "Customer ID       object\n",
       "Customer Name     object\n",
       "Segment           object\n",
       "Country           object\n",
       "City              object\n",
       "State             object\n",
       "Region            object\n",
       "Product ID        object\n",
       "Category          object\n",
       "Sub-Category      object\n",
       "Product Name      object\n",
       "Sales            float64\n",
       "Quantity           int64\n",
       "Discount         float64\n",
       "Profit           float64\n",
       "dtype: object"
      ]
     },
     "execution_count": 4,
     "metadata": {},
     "output_type": "execute_result"
    }
   ],
   "source": [
    "superstore.dtypes"
   ]
  },
  {
   "cell_type": "markdown",
   "metadata": {},
   "source": [
    "#### Date-Time Conversion mit Extraktion der Anzahl Tage"
   ]
  },
  {
   "cell_type": "code",
   "execution_count": 5,
   "metadata": {},
   "outputs": [],
   "source": [
    "from datetime import datetime"
   ]
  },
  {
   "cell_type": "code",
   "execution_count": 6,
   "metadata": {},
   "outputs": [],
   "source": [
    "d1 = datetime.strptime('2022-10-10', '%Y-%M-%d')\n",
    "d2 = datetime.strptime('2022-10-11', '%Y-%M-%d')"
   ]
  },
  {
   "cell_type": "code",
   "execution_count": 7,
   "metadata": {},
   "outputs": [
    {
     "data": {
      "text/plain": [
       "1"
      ]
     },
     "execution_count": 7,
     "metadata": {},
     "output_type": "execute_result"
    }
   ],
   "source": [
    "(d2-d1).days"
   ]
  },
  {
   "cell_type": "markdown",
   "metadata": {},
   "source": [
    "### Aufgabe 1 Packtage"
   ]
  },
  {
   "cell_type": "code",
   "execution_count": 35,
   "metadata": {},
   "outputs": [
    {
     "name": "stdout",
     "output_type": "stream",
     "text": [
      "2017-01-26 00:02:00 2017-01-03 00:03:00\n"
     ]
    }
   ],
   "source": [
    "packtage=[]\n",
    "for i in superstore.index:\n",
    "    row=superstore.iloc[i]\n",
    "    dOrder = datetime.strptime(row[\"Order Date\"], '%Y-%M-%d')\n",
    "    dShip = datetime.strptime(row[\"Ship Date\"], '%Y-%M-%d')\n",
    "    \n",
    "    if i == 9990:\n",
    "        print(dOrder, dShip)\n",
    "    d=(dShip-dOrder).days\n",
    "    packtage.append(d)"
   ]
  },
  {
   "cell_type": "code",
   "execution_count": 33,
   "metadata": {},
   "outputs": [
    {
     "data": {
      "text/plain": [
       "0        3\n",
       "1        3\n",
       "2        4\n",
       "3        7\n",
       "4        7\n",
       "        ..\n",
       "9989     2\n",
       "9990   -23\n",
       "9991   -23\n",
       "9992   -23\n",
       "9993     5\n",
       "Name: Packtage, Length: 9994, dtype: int64"
      ]
     },
     "execution_count": 33,
     "metadata": {},
     "output_type": "execute_result"
    }
   ],
   "source": [
    "superstore[\"Packtage\"].i"
   ]
  },
  {
   "cell_type": "code",
   "execution_count": 34,
   "metadata": {},
   "outputs": [
    {
     "data": {
      "text/plain": [
       "orderReturned                                                 True\n",
       "Order Date                                              2017-02-26\n",
       "Ship Date                                               2017-03-03\n",
       "Ship Mode                                           Standard Class\n",
       "Customer ID                                               DB-13060\n",
       "Customer Name                                          Dave Brooks\n",
       "Segment                                                   Consumer\n",
       "Country                                              United States\n",
       "City                                                    Costa Mesa\n",
       "State                                                   California\n",
       "Region                                                        West\n",
       "Product ID                                         FUR-FU-10000747\n",
       "Category                                                 Furniture\n",
       "Sub-Category                                           Furnishings\n",
       "Product Name     Tenex B1-RE Series Chair Mats for Low Pile Car...\n",
       "Sales                                                        91.96\n",
       "Quantity                                                         2\n",
       "Discount                                                       0.0\n",
       "Profit                                                     15.6332\n",
       "Packtage                                                       -23\n",
       "Name: 9990, dtype: object"
      ]
     },
     "execution_count": 34,
     "metadata": {},
     "output_type": "execute_result"
    }
   ],
   "source": [
    "superstore.iloc[9990]"
   ]
  },
  {
   "cell_type": "code",
   "execution_count": 28,
   "metadata": {},
   "outputs": [
    {
     "data": {
      "text/plain": [
       "(9994, 20)"
      ]
     },
     "execution_count": 28,
     "metadata": {},
     "output_type": "execute_result"
    }
   ],
   "source": [
    "superstore[\"Packtage\"]=packtage\n",
    "superstore.shape"
   ]
  },
  {
   "cell_type": "code",
   "execution_count": 29,
   "metadata": {},
   "outputs": [
    {
     "data": {
      "text/plain": [
       "(8835, 20)"
      ]
     },
     "execution_count": 29,
     "metadata": {},
     "output_type": "execute_result"
    }
   ],
   "source": [
    "superstorePack=superstore[(superstore.Packtage>=0) & (superstore.Packtage<=10)]\n",
    "superstorePack.shape"
   ]
  },
  {
   "cell_type": "code",
   "execution_count": 11,
   "metadata": {},
   "outputs": [
    {
     "data": {
      "text/plain": [
       "count    8835.000000\n",
       "mean        3.854216\n",
       "std         1.759036\n",
       "min         0.000000\n",
       "25%         3.000000\n",
       "50%         4.000000\n",
       "75%         5.000000\n",
       "max         7.000000\n",
       "Name: Packtage, dtype: float64"
      ]
     },
     "execution_count": 11,
     "metadata": {},
     "output_type": "execute_result"
    }
   ],
   "source": [
    "superstorePack.Packtage.describe()"
   ]
  },
  {
   "cell_type": "code",
   "execution_count": 12,
   "metadata": {
    "scrolled": true
   },
   "outputs": [
    {
     "data": {
      "image/png": "[encoded data removed]",
      "text/plain": [
       "<Figure size 432x288 with 1 Axes>"
      ]
     },
     "metadata": {
      "needs_background": "light"
     },
     "output_type": "display_data"
    }
   ],
   "source": [
    "axis=superstorePack.Packtage.hist(bins=8,color=\"gray\",width=0.6)\n",
    "axis.set_xlabel(\"Packtage\");\n",
    "axis.set_ylabel(\"Anzahl\");"
   ]
  },
  {
   "cell_type": "markdown",
   "metadata": {},
   "source": [
    "### Aufgabe 2 statistische Abhängigkeit"
   ]
  },
  {
   "cell_type": "markdown",
   "metadata": {},
   "source": [
    "#### kategorische Variablen"
   ]
  },
  {
   "cell_type": "code",
   "execution_count": 13,
   "metadata": {},
   "outputs": [],
   "source": [
    "from scipy.stats import chi2_contingency\n",
    "\n",
    "def chisquare(testvariable):    \n",
    "    contingencyTable=pd.crosstab(superstore[testvariable],superstore.orderReturned)\n",
    "    chi2,pval,dof,expectedFreq=chi2_contingency(contingencyTable)\n",
    "    print(\"testvariable:\",testvariable,\"chi2=\",chi2,\"pval=\",'{:0.2f}'.format(pval))#show pval in non-scienetific expression\n",
    "    if (testvariable==\"Region\") or (testvariable==\"Category\"):\n",
    "        print(contingencyTable)\n",
    "        print()\n",
    "    return pval\n"
   ]
  },
  {
   "cell_type": "code",
   "execution_count": 14,
   "metadata": {},
   "outputs": [
    {
     "name": "stdout",
     "output_type": "stream",
     "text": [
      "testvariable: Order Date chi2= 3455.9661674067534 pval= 0.00\n",
      "testvariable: Ship Date chi2= 3770.352781053294 pval= 0.00\n",
      "testvariable: Ship Mode chi2= 22.946707924156424 pval= 0.00\n",
      "testvariable: Customer ID chi2= 2607.899579575592 pval= 0.00\n",
      "testvariable: Customer Name chi2= 2607.899579575592 pval= 0.00\n",
      "testvariable: Segment chi2= 6.373606618240836 pval= 0.04\n",
      "testvariable: Country chi2= 0.0 pval= 1.00\n",
      "testvariable: City chi2= 1716.6553979669536 pval= 0.00\n",
      "testvariable: State chi2= 426.88057562588557 pval= 0.00\n",
      "testvariable: Region chi2= 343.5657490095074 pval= 0.00\n",
      "orderReturned  False  True\n",
      "Region                    \n",
      "Central         2231    92\n",
      "East            2699   149\n",
      "South           1551    69\n",
      "West            2713   490\n",
      "\n",
      "testvariable: Product ID chi2= 1759.3179634306925 pval= 0.95\n",
      "testvariable: Category chi2= 0.6958311295580347 pval= 0.71\n",
      "orderReturned    False  True\n",
      "Category                    \n",
      "Furniture         1950   171\n",
      "Office Supplies   5553   473\n",
      "Technology        1691   156\n",
      "\n",
      "testvariable: Sub-Category chi2= 20.18932498143611 pval= 0.21\n",
      "testvariable: Product Name chi2= 1741.9976406613455 pval= 0.96\n"
     ]
    }
   ],
   "source": [
    "dtypes=superstore.dtypes\n",
    "categoryVars=[]\n",
    "for var in dtypes.keys():\n",
    "    if (dtypes[var]==\"object\"):\n",
    "        pval=chisquare(var)\n",
    "        categoryVars.append((pval,var))"
   ]
  },
  {
   "cell_type": "code",
   "execution_count": 15,
   "metadata": {},
   "outputs": [
    {
     "data": {
      "text/plain": [
       "[(4.1800946796935595e-231, 'Ship Date'),\n",
       " (7.234669623672484e-209, 'Order Date'),\n",
       " (3.79617526055892e-192, 'Customer ID'),\n",
       " (3.79617526055892e-192, 'Customer Name'),\n",
       " (4.140227467399147e-125, 'City'),\n",
       " (3.688494292690061e-74, 'Region'),\n",
       " (3.267148885531326e-62, 'State'),\n",
       " (4.142917437082975e-05, 'Ship Mode'),\n",
       " (0.04130369527195776, 'Segment'),\n",
       " (0.21181433298150926, 'Sub-Category'),\n",
       " (0.7061584983461016, 'Category'),\n",
       " (0.9542057559063147, 'Product ID'),\n",
       " (0.9627640476894348, 'Product Name'),\n",
       " (1.0, 'Country')]"
      ]
     },
     "execution_count": 15,
     "metadata": {},
     "output_type": "execute_result"
    }
   ],
   "source": [
    "categoryVars.sort()\n",
    "categoryVars"
   ]
  },
  {
   "cell_type": "markdown",
   "metadata": {},
   "source": [
    "#### metrische Variablen"
   ]
  },
  {
   "cell_type": "code",
   "execution_count": 16,
   "metadata": {},
   "outputs": [],
   "source": [
    "from scipy.stats  import ttest_ind\n",
    "normal=superstore[superstore.orderReturned==False]\n",
    "back=superstore[superstore.orderReturned==True]\n",
    "def student(testvariable):      \n",
    "    tval,pval=ttest_ind(normal[testvariable],back[testvariable])\n",
    "    print(\"var:\",testvariable,\"tval={:.1f}\".format(tval),\n",
    "          \"pval={:.4f}\".format(pval),\n",
    "          \"μNormal={:.1f}\".format(normal[testvariable].mean()),\"σNormal={:.1f}\".format(normal[testvariable].std()),\n",
    "         \"μBack={:.1f}\".format(back[testvariable].mean()),\"σBack={:.1f}\".format(back[testvariable].std()))\n",
    "    return pval"
   ]
  },
  {
   "cell_type": "code",
   "execution_count": 17,
   "metadata": {
    "scrolled": true
   },
   "outputs": [
    {
     "name": "stdout",
     "output_type": "stream",
     "text": [
      "var: Sales tval=0.2 pval=0.8415 μNormal=230.2 σNormal=623.6 μBack=225.6 σBack=619.9\n",
      "var: Quantity tval=-0.4 pval=0.7237 μNormal=3.8 σNormal=2.2 μBack=3.8 σBack=2.2\n",
      "var: Discount tval=1.8 pval=0.0680 μNormal=0.2 σNormal=0.2 μBack=0.1 σBack=0.2\n",
      "var: Profit tval=-0.0 pval=0.9615 μNormal=28.6 σNormal=228.2 μBack=29.0 σBack=295.5\n",
      "var: Packtage tval=-4.1 pval=0.0000 μNormal=5.4 σNormal=40.4 μBack=11.8 σBack=59.1\n"
     ]
    }
   ],
   "source": [
    "dtypes=superstore.dtypes\n",
    "metricVars=[]\n",
    "for var in dtypes.keys():\n",
    "    if (dtypes[var] != \"object\") & (var != \"orderReturned\"):\n",
    "        pval=student(var)\n",
    "        metricVars.append((pval,var))"
   ]
  },
  {
   "cell_type": "code",
   "execution_count": 18,
   "metadata": {},
   "outputs": [
    {
     "data": {
      "text/plain": [
       "[(4.434691372642907e-05, 'Packtage'),\n",
       " (0.06797722342895628, 'Discount'),\n",
       " (0.7237043510125096, 'Quantity'),\n",
       " (0.84146589808265, 'Sales'),\n",
       " (0.9614937549856728, 'Profit')]"
      ]
     },
     "execution_count": 18,
     "metadata": {},
     "output_type": "execute_result"
    }
   ],
   "source": [
    "metricVars.sort()\n",
    "metricVars"
   ]
  },
  {
   "cell_type": "markdown",
   "metadata": {},
   "source": [
    "#### Statistik über alle Variablen"
   ]
  },
  {
   "cell_type": "code",
   "execution_count": 19,
   "metadata": {
    "scrolled": true
   },
   "outputs": [
    {
     "data": {
      "text/plain": [
       "[(4.1800946796935595e-231, 'Ship Date'),\n",
       " (7.234669623672484e-209, 'Order Date'),\n",
       " (3.79617526055892e-192, 'Customer ID'),\n",
       " (3.79617526055892e-192, 'Customer Name'),\n",
       " (4.140227467399147e-125, 'City'),\n",
       " (3.688494292690061e-74, 'Region'),\n",
       " (3.267148885531326e-62, 'State'),\n",
       " (4.142917437082975e-05, 'Ship Mode'),\n",
       " (4.434691372642907e-05, 'Packtage'),\n",
       " (0.04130369527195776, 'Segment'),\n",
       " (0.06797722342895628, 'Discount'),\n",
       " (0.21181433298150926, 'Sub-Category'),\n",
       " (0.7061584983461016, 'Category'),\n",
       " (0.7237043510125096, 'Quantity'),\n",
       " (0.84146589808265, 'Sales'),\n",
       " (0.9542057559063147, 'Product ID'),\n",
       " (0.9614937549856728, 'Profit'),\n",
       " (0.9627640476894348, 'Product Name'),\n",
       " (1.0, 'Country')]"
      ]
     },
     "execution_count": 19,
     "metadata": {},
     "output_type": "execute_result"
    }
   ],
   "source": [
    "allVars=[]\n",
    "for entry in categoryVars:\n",
    "    allVars.append(entry)\n",
    "for entry in metricVars:\n",
    "    allVars.append(entry)\n",
    "allVars.sort()\n",
    "allVars"
   ]
  },
  {
   "cell_type": "code",
   "execution_count": 20,
   "metadata": {},
   "outputs": [],
   "source": [
    "import numpy as n\n",
    "allVarsMatrix=n.array(allVars)\n",
    "heights=[]\n",
    "\n",
    "for val in allVarsMatrix[0:10,0]:\n",
    "    heights.append(float(val))"
   ]
  },
  {
   "cell_type": "code",
   "execution_count": 21,
   "metadata": {
    "scrolled": true
   },
   "outputs": [
    {
     "name": "stdout",
     "output_type": "stream",
     "text": [
      "4.1800946796935595e-231\n",
      "7.234669623672484e-209\n",
      "3.79617526055892e-192\n",
      "3.79617526055892e-192\n",
      "4.140227467399147e-125\n",
      "3.688494292690061e-74\n",
      "3.267148885531326e-62\n",
      "4.142917437082975e-05\n",
      "4.434691372642907e-05\n",
      "0.04130369527195776\n"
     ]
    }
   ],
   "source": [
    "for var in allVarsMatrix[0:10,0]:\n",
    "    print(var)"
   ]
  },
  {
   "cell_type": "code",
   "execution_count": 22,
   "metadata": {},
   "outputs": [
    {
     "data": {
      "image/png": "[encoded data removed]",
      "text/plain": [
       "<Figure size 504x360 with 1 Axes>"
      ]
     },
     "metadata": {
      "needs_background": "light"
     },
     "output_type": "display_data"
    }
   ],
   "source": [
    "from matplotlib import pyplot as plt\n",
    "\n",
    "figure,axis=plt.subplots(figsize=(7,5))\n",
    "\n",
    "\n",
    "axis.bar(x=range(len(heights)),height=heights,color=\"gray\",\n",
    "         tick_label=allVarsMatrix[0:10,1])\n",
    "axis.set_yscale('log')\n",
    "axis.set_xlabel(\"Variablen mit höchster stat. Abhängigkeit\")\n",
    "axis.set_ylabel(\"Irtumswahrscheinlichkeit p\");\n",
    "#plt.ylim(top=0.0001) #schlechtere Alternative zur log-scale\n",
    "plt.xticks(rotation=30,ha='right');\n"
   ]
  },
  {
   "cell_type": "markdown",
   "metadata": {},
   "source": [
    "### Aufgabe 3 Reduktion der Retouren"
   ]
  },
  {
   "cell_type": "code",
   "execution_count": 23,
   "metadata": {},
   "outputs": [],
   "source": [
    "def showMeans(aAxis,aVariableName,aLabel):\n",
    "    \n",
    "    aAxis.bar(x=range(2),\n",
    "              height=[normal[aVariableName].mean(),back[aVariableName].mean()],\n",
    "              yerr=[[0,0],\n",
    "                   [normal[aVariableName].std(),back[aVariableName].std()]],\n",
    "              tick_label=[\"Normal\",\"Rücksendung\"],\n",
    "              width=0.4,color=\"gray\",capsize=4,edgeColor=\"gray\",ecolor=\"gray\")\n",
    "    aAxis.set_ylabel(aLabel)\n",
    "    "
   ]
  },
  {
   "cell_type": "code",
   "execution_count": 27,
   "metadata": {},
   "outputs": [
    {
     "data": {
      "text/plain": [
       "5.445725473134653"
      ]
     },
     "execution_count": 27,
     "metadata": {},
     "output_type": "execute_result"
    }
   ],
   "source": [
    "normal[\"Packtage\"].mean()"
   ]
  },
  {
   "cell_type": "code",
   "execution_count": 24,
   "metadata": {
    "scrolled": true,
    "tags": []
   },
   "outputs": [
    {
     "name": "stderr",
     "output_type": "stream",
     "text": [
      "C:\\Users\\I550854\\AppData\\Local\\Temp/ipykernel_15892/3963187350.py:3: MatplotlibDeprecationWarning: Case-insensitive properties were deprecated in 3.3 and support will be removed two minor releases later\n",
      "  aAxis.bar(x=range(2),\n"
     ]
    },
    {
     "data": {
      "image/png": "[encoded data removed]",
      "text/plain": [
       "<Figure size 576x288 with 3 Axes>"
      ]
     },
     "metadata": {
      "needs_background": "light"
     },
     "output_type": "display_data"
    }
   ],
   "source": [
    "figure,axes=plt.subplots(figsize=(8,4),ncols=3)\n",
    "showMeans(axes[0],\"Packtage\",\"Packtage in Tagen\")\n",
    "showMeans(axes[1],\"Profit\",\"Profit in Dollar\")\n",
    "showMeans(axes[2],\"Discount\",\"Discount-Rate in Prozent/100\")\n",
    "plt.subplots_adjust(wspace=0.7)#space between plots"
   ]
  },
  {
   "cell_type": "code",
   "execution_count": 25,
   "metadata": {
    "scrolled": true
   },
   "outputs": [
    {
     "data": {
      "text/plain": [
       "West       2713\n",
       "East       2699\n",
       "Central    2231\n",
       "South      1551\n",
       "Name: Region, dtype: int64"
      ]
     },
     "execution_count": 25,
     "metadata": {},
     "output_type": "execute_result"
    }
   ],
   "source": [
    "normal.Region.value_counts()"
   ]
  },
  {
   "cell_type": "code",
   "execution_count": 127,
   "metadata": {},
   "outputs": [
    {
     "data": {
      "text/plain": [
       "West       490\n",
       "East       149\n",
       "Central     92\n",
       "South       69\n",
       "Name: Region, dtype: int64"
      ]
     },
     "execution_count": 127,
     "metadata": {},
     "output_type": "execute_result"
    }
   ],
   "source": [
    "back.Region.value_counts()"
   ]
  },
  {
   "cell_type": "code",
   "execution_count": 157,
   "metadata": {},
   "outputs": [],
   "source": [
    "def showValueCounts(aAxis,aVariableName,aShowYlabel=False):\n",
    "    normalTotal=len(normal)\n",
    "    normalCounts=normal[aVariableName].value_counts()\n",
    "    backTotal=len(back)\n",
    "    backCounts=back[aVariableName].value_counts()\n",
    "    tick_label=[]\n",
    "    normalHeights=[]\n",
    "    backHeights=[]\n",
    "    for val in normalCounts.keys():\n",
    "        print(val,normalCounts[val]/normalTotal,backCounts[val]/backTotal)\n",
    "        tick_label.append(val)\n",
    "        totalCounts=normalCounts[val]+backCounts[val]\n",
    "        normalHeights.append(100*(normalCounts[val]/totalCounts))\n",
    "        backHeights.append(100*(backCounts[val]/totalCounts))\n",
    "    aAxis.bar(x=range(len(tick_label)),\n",
    "             height=normalHeights,\n",
    "             tick_label=tick_label)\n",
    "    aAxis.bar(x=range(len(tick_label)),\n",
    "             height=backHeights,\n",
    "             bottom=normalHeights)\n",
    "    if aShowYlabel:\n",
    "        aAxis.set_ylabel(\"Prozent\")\n",
    "    aAxis.legend([\"Normalbestellung\",\"Rücksendung\"])    "
   ]
  },
  {
   "cell_type": "code",
   "execution_count": 158,
   "metadata": {},
   "outputs": [
    {
     "name": "stdout",
     "output_type": "stream",
     "text": [
      "West 0.29508375027191647 0.6125\n",
      "East 0.2935610180552534 0.18625\n",
      "Central 0.24265825538394606 0.115\n",
      "South 0.16869697628888405 0.08625\n",
      "Office Supplies 0.6039808570807048 0.59125\n",
      "Furniture 0.2120948444637807 0.21375\n",
      "Technology 0.18392429845551447 0.195\n"
     ]
    },
    {
     "data": {
      "image/png": "[encoded data removed]",
      "text/plain": [
       "<Figure size 576x288 with 2 Axes>"
      ]
     },
     "metadata": {
      "needs_background": "light"
     },
     "output_type": "display_data"
    }
   ],
   "source": [
    "figure,axes=plt.subplots(figsize=(8,4),ncols=2)\n",
    "\n",
    "showValueCounts(axes[0],\"Region\",True)\n",
    "showValueCounts(axes[1],\"Category\")"
   ]
  }
 ],
 "metadata": {
  "kernelspec": {
   "display_name": "Python 3 (ipykernel)",
   "language": "python",
   "name": "python3"
  },
  "language_info": {
   "codemirror_mode": {
    "name": "ipython",
    "version": 3
   },
   "file_extension": ".py",
   "mimetype": "text/x-python",
   "name": "python",
   "nbconvert_exporter": "python",
   "pygments_lexer": "ipython3",
   "version": "3.9.7"
  }
 },
 "nbformat": 4,
 "nbformat_minor": 4
}
