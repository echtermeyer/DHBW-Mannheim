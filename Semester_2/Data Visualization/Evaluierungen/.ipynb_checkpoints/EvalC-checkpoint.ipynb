{
 "cells": [
  {
   "cell_type": "code",
   "execution_count": 1,
   "id": "af509cbe-805b-41f0-baff-35d7e8f97b81",
   "metadata": {},
   "outputs": [],
   "source": [
    "import pandas as pd\n",
    "import numpy as np\n",
    "import matplotlib.pyplot as plt\n",
    "\n",
    "from copy import deepcopy\n",
    "from datetime import datetime\n",
    "from scipy import stats\n",
    "from collections import Counter\n",
    "\n",
    "from scipy.stats import ttest_ind\n",
    "from scipy.stats import chi2_contingency\n",
    "\n",
    "plt.style.use(\"seaborn\")\n",
    "\n",
    "u, s = \"µ\", \"σ\""
   ]
  },
  {
   "cell_type": "code",
   "execution_count": 2,
   "id": "4f0af787-f089-45cc-b52c-c64a31555d49",
   "metadata": {},
   "outputs": [],
   "source": [
    "def test_normal(x):\n",
    "    k2, p = stats.normaltest(x)\n",
    "    alpha = 1e-3\n",
    "    print(\"p = {:g}\".format(p))\n",
    "    if p < alpha:  # null hypothesis: x comes from a normal distribution\n",
    "        print(\"It's not a normal distribution\")\n",
    "    else:\n",
    "        print(\"It's a normal distribution\")\n",
    "        \n",
    "    plt.hist(x)\n",
    "    plt.show()"
   ]
  },
  {
   "cell_type": "code",
   "execution_count": 7,
   "id": "32813353-811c-449e-82d4-b00e7e00ee03",
   "metadata": {},
   "outputs": [],
   "source": [
    "def stackedbarchart_from_contingency(contingencyTable,xlabel=None,title=None):\n",
    "    percentages = []\n",
    "\n",
    "\n",
    "    for i,target_col in enumerate(contingencyTable.columns):\n",
    "        percentage_onelabel = []\n",
    "        for j,label in enumerate(contingencyTable.index):\n",
    "            val = contingencyTable.loc[label][target_col]\n",
    "            summe = contingencyTable.loc[label].sum()\n",
    "            percentage = (val/summe) *100\n",
    "            percentage_onelabel.append(percentage)\n",
    "\n",
    "        val = contingencyTable[target_col].sum()\n",
    "        total = contingencyTable.sum().sum()\n",
    "\n",
    "        percentage_onelabel.append(val*100/total)\n",
    "        percentages.append(percentage_onelabel)\n",
    "\n",
    "\n",
    "    percentages_backup = deepcopy(percentages)\n",
    "    # print('per',percentages)\n",
    "\n",
    "    # add up preceeding percentages for barchart\n",
    "    for i in range(1,len(percentages)):\n",
    "        for j in range(0,len(percentages[i])):\n",
    "            percentages[i][j] += percentages[i-1][j]\n",
    "\n",
    "    # print(percentages,contingencyTable.index)\n",
    "    colors = ['grey','lightgrey','black','dimgrey']\n",
    "    plt.figure(figsize=(5,5))\n",
    "    \n",
    "    # print(percentages)\n",
    "    \n",
    "    labels = list(contingencyTable.index)+['total']\n",
    "    labels = [str(v) for v in labels]\n",
    "\n",
    "    for i in range(len(percentages)-1,-1,-1):\n",
    "        \n",
    "        plt.bar(labels,percentages[i],label=contingencyTable.columns[i],color=colors[i])\n",
    "    \n",
    "    plt.ylabel('Percentage')\n",
    "    plt.xlabel(xlabel)\n",
    "    plt.title(title)\n",
    "    \n",
    "    plt.legend(loc=\"upper right\")\n",
    "    plt.show()\n",
    "\n",
    "    # print('In Percent ',list(contingencyTable.index)+['total'])\n",
    "\n",
    "    data = []\n",
    "    data_transposed = []\n",
    "    for i in range(len(percentages_backup)-1,-1,-1):\n",
    "        # print(contingencyTable.columns[i],percentages_backup[i])\n",
    "        data_transposed.append(percentages_backup[i])\n",
    "\n",
    "    data_transposed = list(reversed(data_transposed))\n",
    "    for i in range(len(data_transposed[0])):\n",
    "        row = []\n",
    "        for j in range(len(data_transposed)):\n",
    "            row.append(data_transposed[j][i])\n",
    "        \n",
    "        data.append(row)\n",
    "    \n",
    "    df = pd.DataFrame(data=data,columns=contingencyTable.columns, index=list(contingencyTable.index)+['total'])\n",
    "    try:\n",
    "        totalratio = df.loc['total'][0] /df.loc['total'][1]\n",
    "        df['Abweichung von Total'] = df.iloc[:,0]/df.iloc[:,1] - totalratio\n",
    "    except:\n",
    "        print('Cant generate total')\n",
    "\n",
    "    print(df)\n",
    "    print(\"\\n\\n\")"
   ]
  },
  {
   "cell_type": "code",
   "execution_count": 5,
   "id": "72963b33-6c7b-4857-8ee4-be7660b704f5",
   "metadata": {
    "tags": []
   },
   "outputs": [],
   "source": [
    "crosstab = pd.crosstab(df[\"job\"], df[\"classification\"]) # classification needs to be binary\n",
    "chi2, pval, dof, expectedFreq=chi2_contingency(crosstab) # single features as inputs\n",
    "\n",
    "cl_good = df[df[\"classification\"] == \"good\"][\"duration [month]\"] # creation of two df series based on binary\n",
    "cl_bad = df[df[\"classification\"] == \"bad\"][\"duration [month]\"]\n",
    "t_val, p_val = ttest_ind(cl_good, cl_bad) # pval for each feature"
   ]
  },
  {
   "cell_type": "markdown",
   "id": "2ad7da54-4d67-4c65-8cdd-32e054977350",
   "metadata": {},
   "source": [
    "# Übersicht"
   ]
  },
  {
   "cell_type": "code",
   "execution_count": 8,
   "id": "26ccc4ec-089e-4270-b0b3-0b6a38000aa8",
   "metadata": {},
   "outputs": [
    {
     "name": "stdout",
     "output_type": "stream",
     "text": [
      "(9994, 22)\n"
     ]
    },
    {
     "data": {
      "text/html": [
       "<div>\n",
       "<style scoped>\n",
       "    .dataframe tbody tr th:only-of-type {\n",
       "        vertical-align: middle;\n",
       "    }\n",
       "\n",
       "    .dataframe tbody tr th {\n",
       "        vertical-align: top;\n",
       "    }\n",
       "\n",
       "    .dataframe thead th {\n",
       "        text-align: right;\n",
       "    }\n",
       "</style>\n",
       "<table border=\"1\" class=\"dataframe\">\n",
       "  <thead>\n",
       "    <tr style=\"text-align: right;\">\n",
       "      <th></th>\n",
       "      <th>orderReturned</th>\n",
       "      <th>Row ID</th>\n",
       "      <th>Order ID</th>\n",
       "      <th>Order Date</th>\n",
       "      <th>Ship Date</th>\n",
       "      <th>Ship Mode</th>\n",
       "      <th>Customer ID</th>\n",
       "      <th>Customer Name</th>\n",
       "      <th>Segment</th>\n",
       "      <th>Country</th>\n",
       "      <th>...</th>\n",
       "      <th>Postal Code</th>\n",
       "      <th>Region</th>\n",
       "      <th>Product ID</th>\n",
       "      <th>Category</th>\n",
       "      <th>Sub-Category</th>\n",
       "      <th>Product Name</th>\n",
       "      <th>Sales</th>\n",
       "      <th>Quantity</th>\n",
       "      <th>Discount</th>\n",
       "      <th>Profit</th>\n",
       "    </tr>\n",
       "  </thead>\n",
       "  <tbody>\n",
       "    <tr>\n",
       "      <th>0</th>\n",
       "      <td>False</td>\n",
       "      <td>1</td>\n",
       "      <td>CA-2016-152156</td>\n",
       "      <td>2016-11-08</td>\n",
       "      <td>2016-11-11</td>\n",
       "      <td>Second Class</td>\n",
       "      <td>CG-12520</td>\n",
       "      <td>Claire Gute</td>\n",
       "      <td>Consumer</td>\n",
       "      <td>United States</td>\n",
       "      <td>...</td>\n",
       "      <td>42420</td>\n",
       "      <td>South</td>\n",
       "      <td>FUR-BO-10001798</td>\n",
       "      <td>Furniture</td>\n",
       "      <td>Bookcases</td>\n",
       "      <td>Bush Somerset Collection Bookcase</td>\n",
       "      <td>261.96</td>\n",
       "      <td>2</td>\n",
       "      <td>0.0</td>\n",
       "      <td>41.9136</td>\n",
       "    </tr>\n",
       "  </tbody>\n",
       "</table>\n",
       "<p>1 rows × 22 columns</p>\n",
       "</div>"
      ],
      "text/plain": [
       "   orderReturned  Row ID        Order ID  Order Date   Ship Date  \\\n",
       "0          False       1  CA-2016-152156  2016-11-08  2016-11-11   \n",
       "\n",
       "      Ship Mode Customer ID Customer Name   Segment        Country  ...  \\\n",
       "0  Second Class    CG-12520   Claire Gute  Consumer  United States  ...   \n",
       "\n",
       "  Postal Code Region       Product ID   Category Sub-Category  \\\n",
       "0       42420  South  FUR-BO-10001798  Furniture    Bookcases   \n",
       "\n",
       "                        Product Name   Sales Quantity  Discount   Profit  \n",
       "0  Bush Somerset Collection Bookcase  261.96        2       0.0  41.9136  \n",
       "\n",
       "[1 rows x 22 columns]"
      ]
     },
     "execution_count": 8,
     "metadata": {},
     "output_type": "execute_result"
    }
   ],
   "source": [
    "df = pd.read_csv(\"data/Superstore_OrderAndReturns.csv\")\n",
    "print(df.shape)\n",
    "df.head(1)"
   ]
  },
  {
   "cell_type": "code",
   "execution_count": 9,
   "id": "2c7dcba2-b186-4cfc-b1d2-01548b00d2d2",
   "metadata": {},
   "outputs": [
    {
     "data": {
      "text/plain": [
       "Index(['orderReturned', 'Row ID', 'Order ID', 'Order Date', 'Ship Date',\n",
       "       'Ship Mode', 'Customer ID', 'Customer Name', 'Segment', 'Country',\n",
       "       'City', 'State', 'Postal Code', 'Region', 'Product ID', 'Category',\n",
       "       'Sub-Category', 'Product Name', 'Sales', 'Quantity', 'Discount',\n",
       "       'Profit'],\n",
       "      dtype='object')"
      ]
     },
     "execution_count": 9,
     "metadata": {},
     "output_type": "execute_result"
    }
   ],
   "source": [
    "df.columns"
   ]
  },
  {
   "cell_type": "code",
   "execution_count": 17,
   "id": "64e39110-bef4-49ae-8dce-799f0a458315",
   "metadata": {},
   "outputs": [],
   "source": [
    "df[\"order_dt\"] = [datetime.strptime(date, '%Y-%m-%d') for date in df[\"Order Date\"].to_list()]\n",
    "df[\"ship_dt\"] = [datetime.strptime(date, '%Y-%m-%d') for date in df[\"Ship Date\"].to_list()]"
   ]
  },
  {
   "cell_type": "markdown",
   "id": "79381645-f9de-49d9-8934-d38061eff2ca",
   "metadata": {},
   "source": [
    "# Aufgabe 1"
   ]
  },
  {
   "cell_type": "code",
   "execution_count": 27,
   "id": "90881caa-0fe9-4a8a-8e2e-0b3cb6e901aa",
   "metadata": {},
   "outputs": [
    {
     "data": {
      "text/html": [
       "<div>\n",
       "<style scoped>\n",
       "    .dataframe tbody tr th:only-of-type {\n",
       "        vertical-align: middle;\n",
       "    }\n",
       "\n",
       "    .dataframe tbody tr th {\n",
       "        vertical-align: top;\n",
       "    }\n",
       "\n",
       "    .dataframe thead th {\n",
       "        text-align: right;\n",
       "    }\n",
       "</style>\n",
       "<table border=\"1\" class=\"dataframe\">\n",
       "  <thead>\n",
       "    <tr style=\"text-align: right;\">\n",
       "      <th></th>\n",
       "      <th>orderReturned</th>\n",
       "      <th>Row ID</th>\n",
       "      <th>Order ID</th>\n",
       "      <th>Order Date</th>\n",
       "      <th>Ship Date</th>\n",
       "      <th>Ship Mode</th>\n",
       "      <th>Customer ID</th>\n",
       "      <th>Customer Name</th>\n",
       "      <th>Segment</th>\n",
       "      <th>Country</th>\n",
       "      <th>...</th>\n",
       "      <th>Category</th>\n",
       "      <th>Sub-Category</th>\n",
       "      <th>Product Name</th>\n",
       "      <th>Sales</th>\n",
       "      <th>Quantity</th>\n",
       "      <th>Discount</th>\n",
       "      <th>Profit</th>\n",
       "      <th>order_dt</th>\n",
       "      <th>ship_dt</th>\n",
       "      <th>dt_diff</th>\n",
       "    </tr>\n",
       "  </thead>\n",
       "  <tbody>\n",
       "    <tr>\n",
       "      <th>0</th>\n",
       "      <td>False</td>\n",
       "      <td>1</td>\n",
       "      <td>CA-2016-152156</td>\n",
       "      <td>2016-11-08</td>\n",
       "      <td>2016-11-11</td>\n",
       "      <td>Second Class</td>\n",
       "      <td>CG-12520</td>\n",
       "      <td>Claire Gute</td>\n",
       "      <td>Consumer</td>\n",
       "      <td>United States</td>\n",
       "      <td>...</td>\n",
       "      <td>Furniture</td>\n",
       "      <td>Bookcases</td>\n",
       "      <td>Bush Somerset Collection Bookcase</td>\n",
       "      <td>261.96</td>\n",
       "      <td>2</td>\n",
       "      <td>0.0</td>\n",
       "      <td>41.9136</td>\n",
       "      <td>2016-11-08</td>\n",
       "      <td>2016-11-11</td>\n",
       "      <td>3</td>\n",
       "    </tr>\n",
       "  </tbody>\n",
       "</table>\n",
       "<p>1 rows × 25 columns</p>\n",
       "</div>"
      ],
      "text/plain": [
       "   orderReturned  Row ID        Order ID  Order Date   Ship Date  \\\n",
       "0          False       1  CA-2016-152156  2016-11-08  2016-11-11   \n",
       "\n",
       "      Ship Mode Customer ID Customer Name   Segment        Country  ...  \\\n",
       "0  Second Class    CG-12520   Claire Gute  Consumer  United States  ...   \n",
       "\n",
       "    Category Sub-Category                       Product Name   Sales Quantity  \\\n",
       "0  Furniture    Bookcases  Bush Somerset Collection Bookcase  261.96        2   \n",
       "\n",
       "  Discount   Profit   order_dt    ship_dt  dt_diff  \n",
       "0      0.0  41.9136 2016-11-08 2016-11-11        3  \n",
       "\n",
       "[1 rows x 25 columns]"
      ]
     },
     "execution_count": 27,
     "metadata": {},
     "output_type": "execute_result"
    }
   ],
   "source": [
    "diffs = [df.iloc[i][\"ship_dt\"] - df.iloc[i][\"order_dt\"] for i in range(df.shape[0])]\n",
    "df[\"dt_diff\"] = [date.days for date in diffs]\n",
    "df.head(1)"
   ]
  },
  {
   "cell_type": "code",
   "execution_count": 31,
   "id": "42d14dd7-5bba-499f-8dc8-3d018e8508eb",
   "metadata": {},
   "outputs": [
    {
     "data": {
      "text/plain": [
       "(9994, 25)"
      ]
     },
     "execution_count": 31,
     "metadata": {},
     "output_type": "execute_result"
    }
   ],
   "source": [
    "df_ten_days = df[(df[\"dt_diff\"] >= 0) & (df[\"dt_diff\"] <= 10)]\n",
    "df_ten_days.shape"
   ]
  },
  {
   "cell_type": "code",
   "execution_count": null,
   "id": "702c87f0-3f50-4732-ab08-f29c6c119fae",
   "metadata": {},
   "outputs": [],
   "source": []
  },
  {
   "cell_type": "markdown",
   "id": "a00284ae-50cb-4145-8e76-5c3b2e64e4b3",
   "metadata": {},
   "source": [
    "# Aufgabe 2"
   ]
  },
  {
   "cell_type": "code",
   "execution_count": null,
   "id": "68e054a0-d5d9-472b-9c11-01045b612fe8",
   "metadata": {},
   "outputs": [],
   "source": []
  },
  {
   "cell_type": "code",
   "execution_count": null,
   "id": "e4b8a7b2-8efb-4469-8b02-405d5bde5de0",
   "metadata": {},
   "outputs": [],
   "source": []
  },
  {
   "cell_type": "code",
   "execution_count": null,
   "id": "ab314331-d470-46f6-8f58-b3501308c09e",
   "metadata": {},
   "outputs": [],
   "source": []
  },
  {
   "cell_type": "markdown",
   "id": "29f9c6a0-192e-46c9-90f1-60415d1b34b0",
   "metadata": {},
   "source": [
    "# Aufgabe 3"
   ]
  },
  {
   "cell_type": "code",
   "execution_count": null,
   "id": "c905a398-8a6c-4fac-9b1b-d02a4576a859",
   "metadata": {},
   "outputs": [],
   "source": []
  },
  {
   "cell_type": "code",
   "execution_count": null,
   "id": "9d6ad9d7-cc9e-4a11-af01-9f5d11ff132b",
   "metadata": {},
   "outputs": [],
   "source": []
  },
  {
   "cell_type": "code",
   "execution_count": null,
   "id": "6cac4866-383b-496a-b12a-f70833535b44",
   "metadata": {},
   "outputs": [],
   "source": []
  },
  {
   "cell_type": "markdown",
   "id": "ac6fb7f6-e583-4097-8591-864b014e8292",
   "metadata": {},
   "source": [
    "# Aufgabe 4"
   ]
  },
  {
   "cell_type": "code",
   "execution_count": null,
   "id": "8f903af0-6a5f-49c0-bfb6-d8a054525778",
   "metadata": {},
   "outputs": [],
   "source": []
  },
  {
   "cell_type": "code",
   "execution_count": null,
   "id": "fe7651cf-abb8-4700-8193-8ca6787f9ac5",
   "metadata": {},
   "outputs": [],
   "source": []
  }
 ],
 "metadata": {
  "kernelspec": {
   "display_name": "Python 3 (ipykernel)",
   "language": "python",
   "name": "python3"
  },
  "language_info": {
   "codemirror_mode": {
    "name": "ipython",
    "version": 3
   },
   "file_extension": ".py",
   "mimetype": "text/x-python",
   "name": "python",
   "nbconvert_exporter": "python",
   "pygments_lexer": "ipython3",
   "version": "3.9.7"
  }
 },
 "nbformat": 4,
 "nbformat_minor": 5
}
