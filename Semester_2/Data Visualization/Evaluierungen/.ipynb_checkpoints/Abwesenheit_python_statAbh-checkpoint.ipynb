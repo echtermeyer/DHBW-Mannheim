{
 "cells": [
  {
   "cell_type": "code",
   "execution_count": 3,
   "metadata": {},
   "outputs": [],
   "source": [
    "import pandas as pd\n",
    "abw=pd.read_csv(\"Absenteeism_at_work.csv\",sep=\";\")\n",
    "from matplotlib import pyplot as plt\n",
    "import numpy as n"
   ]
  },
  {
   "cell_type": "code",
   "execution_count": 4,
   "metadata": {},
   "outputs": [],
   "source": [
    "abw.columns\n",
    "abw=abw.rename(columns = {'Absenteeism time in hours':'hours',\"Body mass index\":\"bodyMass\"})"
   ]
  },
  {
   "cell_type": "code",
   "execution_count": 112,
   "metadata": {},
   "outputs": [
    {
     "data": {
      "text/html": [
       "<div>\n",
       "<style scoped>\n",
       "    .dataframe tbody tr th:only-of-type {\n",
       "        vertical-align: middle;\n",
       "    }\n",
       "\n",
       "    .dataframe tbody tr th {\n",
       "        vertical-align: top;\n",
       "    }\n",
       "\n",
       "    .dataframe thead th {\n",
       "        text-align: right;\n",
       "    }\n",
       "</style>\n",
       "<table border=\"1\" class=\"dataframe\">\n",
       "  <thead>\n",
       "    <tr style=\"text-align: right;\">\n",
       "      <th></th>\n",
       "      <th>ID</th>\n",
       "      <th>Reason for absence</th>\n",
       "      <th>Month of absence</th>\n",
       "      <th>Day of the week</th>\n",
       "      <th>Seasons</th>\n",
       "      <th>Transportation expense</th>\n",
       "      <th>Distance from Residence to Work</th>\n",
       "      <th>Service time</th>\n",
       "      <th>Age</th>\n",
       "      <th>Work load Average/day</th>\n",
       "      <th>...</th>\n",
       "      <th>Disciplinary failure</th>\n",
       "      <th>Education</th>\n",
       "      <th>Son</th>\n",
       "      <th>Social drinker</th>\n",
       "      <th>Social smoker</th>\n",
       "      <th>Pet</th>\n",
       "      <th>Weight</th>\n",
       "      <th>Height</th>\n",
       "      <th>bodyMass</th>\n",
       "      <th>hours</th>\n",
       "    </tr>\n",
       "  </thead>\n",
       "  <tbody>\n",
       "    <tr>\n",
       "      <th>0</th>\n",
       "      <td>11</td>\n",
       "      <td>26</td>\n",
       "      <td>7</td>\n",
       "      <td>3</td>\n",
       "      <td>1</td>\n",
       "      <td>289</td>\n",
       "      <td>36</td>\n",
       "      <td>13</td>\n",
       "      <td>33</td>\n",
       "      <td>239.554</td>\n",
       "      <td>...</td>\n",
       "      <td>0</td>\n",
       "      <td>1</td>\n",
       "      <td>2</td>\n",
       "      <td>1</td>\n",
       "      <td>0</td>\n",
       "      <td>1</td>\n",
       "      <td>90</td>\n",
       "      <td>172</td>\n",
       "      <td>30</td>\n",
       "      <td>4</td>\n",
       "    </tr>\n",
       "    <tr>\n",
       "      <th>1</th>\n",
       "      <td>36</td>\n",
       "      <td>0</td>\n",
       "      <td>7</td>\n",
       "      <td>3</td>\n",
       "      <td>1</td>\n",
       "      <td>118</td>\n",
       "      <td>13</td>\n",
       "      <td>18</td>\n",
       "      <td>50</td>\n",
       "      <td>239.554</td>\n",
       "      <td>...</td>\n",
       "      <td>1</td>\n",
       "      <td>1</td>\n",
       "      <td>1</td>\n",
       "      <td>1</td>\n",
       "      <td>0</td>\n",
       "      <td>0</td>\n",
       "      <td>98</td>\n",
       "      <td>178</td>\n",
       "      <td>31</td>\n",
       "      <td>0</td>\n",
       "    </tr>\n",
       "    <tr>\n",
       "      <th>2</th>\n",
       "      <td>3</td>\n",
       "      <td>23</td>\n",
       "      <td>7</td>\n",
       "      <td>4</td>\n",
       "      <td>1</td>\n",
       "      <td>179</td>\n",
       "      <td>51</td>\n",
       "      <td>18</td>\n",
       "      <td>38</td>\n",
       "      <td>239.554</td>\n",
       "      <td>...</td>\n",
       "      <td>0</td>\n",
       "      <td>1</td>\n",
       "      <td>0</td>\n",
       "      <td>1</td>\n",
       "      <td>0</td>\n",
       "      <td>0</td>\n",
       "      <td>89</td>\n",
       "      <td>170</td>\n",
       "      <td>31</td>\n",
       "      <td>2</td>\n",
       "    </tr>\n",
       "    <tr>\n",
       "      <th>3</th>\n",
       "      <td>7</td>\n",
       "      <td>7</td>\n",
       "      <td>7</td>\n",
       "      <td>5</td>\n",
       "      <td>1</td>\n",
       "      <td>279</td>\n",
       "      <td>5</td>\n",
       "      <td>14</td>\n",
       "      <td>39</td>\n",
       "      <td>239.554</td>\n",
       "      <td>...</td>\n",
       "      <td>0</td>\n",
       "      <td>1</td>\n",
       "      <td>2</td>\n",
       "      <td>1</td>\n",
       "      <td>1</td>\n",
       "      <td>0</td>\n",
       "      <td>68</td>\n",
       "      <td>168</td>\n",
       "      <td>24</td>\n",
       "      <td>4</td>\n",
       "    </tr>\n",
       "    <tr>\n",
       "      <th>4</th>\n",
       "      <td>11</td>\n",
       "      <td>23</td>\n",
       "      <td>7</td>\n",
       "      <td>5</td>\n",
       "      <td>1</td>\n",
       "      <td>289</td>\n",
       "      <td>36</td>\n",
       "      <td>13</td>\n",
       "      <td>33</td>\n",
       "      <td>239.554</td>\n",
       "      <td>...</td>\n",
       "      <td>0</td>\n",
       "      <td>1</td>\n",
       "      <td>2</td>\n",
       "      <td>1</td>\n",
       "      <td>0</td>\n",
       "      <td>1</td>\n",
       "      <td>90</td>\n",
       "      <td>172</td>\n",
       "      <td>30</td>\n",
       "      <td>2</td>\n",
       "    </tr>\n",
       "  </tbody>\n",
       "</table>\n",
       "<p>5 rows × 21 columns</p>\n",
       "</div>"
      ],
      "text/plain": [
       "   ID  Reason for absence  Month of absence  Day of the week  Seasons  \\\n",
       "0  11                  26                 7                3        1   \n",
       "1  36                   0                 7                3        1   \n",
       "2   3                  23                 7                4        1   \n",
       "3   7                   7                 7                5        1   \n",
       "4  11                  23                 7                5        1   \n",
       "\n",
       "   Transportation expense  Distance from Residence to Work  Service time  Age  \\\n",
       "0                     289                               36            13   33   \n",
       "1                     118                               13            18   50   \n",
       "2                     179                               51            18   38   \n",
       "3                     279                                5            14   39   \n",
       "4                     289                               36            13   33   \n",
       "\n",
       "   Work load Average/day   ...  Disciplinary failure  Education  Son  \\\n",
       "0                 239.554  ...                     0          1    2   \n",
       "1                 239.554  ...                     1          1    1   \n",
       "2                 239.554  ...                     0          1    0   \n",
       "3                 239.554  ...                     0          1    2   \n",
       "4                 239.554  ...                     0          1    2   \n",
       "\n",
       "   Social drinker  Social smoker  Pet  Weight  Height  bodyMass  hours  \n",
       "0               1              0    1      90     172        30      4  \n",
       "1               1              0    0      98     178        31      0  \n",
       "2               1              0    0      89     170        31      2  \n",
       "3               1              1    0      68     168        24      4  \n",
       "4               1              0    1      90     172        30      2  \n",
       "\n",
       "[5 rows x 21 columns]"
      ]
     },
     "execution_count": 112,
     "metadata": {},
     "output_type": "execute_result"
    }
   ],
   "source": [
    "abw.head()"
   ]
  },
  {
   "cell_type": "markdown",
   "metadata": {},
   "source": [
    "### Aufgabe 1 Deskriptive Statistik"
   ]
  },
  {
   "cell_type": "markdown",
   "metadata": {},
   "source": [
    "Gruppieren nach Personen"
   ]
  },
  {
   "cell_type": "code",
   "execution_count": 5,
   "metadata": {},
   "outputs": [],
   "source": [
    "workers=abw.groupby(\"ID\")"
   ]
  },
  {
   "cell_type": "code",
   "execution_count": 6,
   "metadata": {},
   "outputs": [],
   "source": [
    "number=[]\n",
    "hoursMeanStd=[]\n",
    "\n",
    "for name,dfWorker in workers:\n",
    "    #print(name,len(dfWorker),\"μ={:.1f} ± σ={:.1f}\".format(dfWorker.hours.mean(),dfWorker.hours.std()))\n",
    "    number.append((len(dfWorker),name))\n",
    "    hoursMeanStd.append((dfWorker.hours.mean(),dfWorker.hours.std(),name))"
   ]
  },
  {
   "cell_type": "code",
   "execution_count": 7,
   "metadata": {},
   "outputs": [],
   "source": [
    "number.sort(reverse=True)\n",
    "hoursMeanStd.sort(reverse=True)"
   ]
  },
  {
   "cell_type": "code",
   "execution_count": 44,
   "metadata": {},
   "outputs": [
    {
     "data": {
      "text/plain": [
       "[(113, 3),\n",
       " (76, 28),\n",
       " (55, 34),\n",
       " (46, 22),\n",
       " (42, 20),\n",
       " (40, 11),\n",
       " (37, 15),\n",
       " (34, 36),\n",
       " (30, 24),\n",
       " (29, 14)]"
      ]
     },
     "execution_count": 44,
     "metadata": {},
     "output_type": "execute_result"
    }
   ],
   "source": [
    "number[0:10]"
   ]
  },
  {
   "cell_type": "markdown",
   "metadata": {},
   "source": [
    "#### Umwandlung der Liste in ein numpy-Array-Matrix ermöglicht spaltenweisen Zugriff"
   ]
  },
  {
   "cell_type": "code",
   "execution_count": 8,
   "metadata": {},
   "outputs": [],
   "source": [
    "numberMat=n.array(number)\n",
    "hoursMat=n.array(hoursMeanStd)"
   ]
  },
  {
   "cell_type": "markdown",
   "metadata": {},
   "source": [
    "#### Darstellung der Anzahl als Barchart "
   ]
  },
  {
   "cell_type": "code",
   "execution_count": 40,
   "metadata": {
    "scrolled": true
   },
   "outputs": [
    {
     "data": {
      "image/png": "[encoded data removed]",
      "text/plain": [
       "<Figure size 864x360 with 1 Axes>"
      ]
     },
     "metadata": {
      "needs_background": "light"
     },
     "output_type": "display_data"
    }
   ],
   "source": [
    "figure,axis=plt.subplots(figsize=(12,5))\n",
    "figure.suptitle(\"Übersicht der Häufigkeiten für jede Person\");\n",
    "axis.bar(x=range(len(number)),\n",
    "         height=numberMat[:,0],\n",
    "        color=\"gray\",\n",
    "        tick_label=numberMat[:,1])\n",
    "axis.set_xlabel(\"Personen ID\");\n",
    "axis.set_ylabel(\"Anzahl der Abwesenheiten\");"
   ]
  },
  {
   "cell_type": "markdown",
   "metadata": {},
   "source": [
    "#### Darstellung der durchschnittlichen Stunden als Barchart mit Standardabweichung"
   ]
  },
  {
   "cell_type": "code",
   "execution_count": 72,
   "metadata": {},
   "outputs": [
    {
     "data": {
      "image/png": "[encoded data removed]",
      "text/plain": [
       "<Figure size 864x360 with 1 Axes>"
      ]
     },
     "metadata": {
      "needs_background": "light"
     },
     "output_type": "display_data"
    }
   ],
   "source": [
    "figure,axis=plt.subplots(figsize=(12,5))\n",
    "figure.suptitle(\"Übersicht der Abwesenheitsstunden für jede Person\");\n",
    "errorbars=n.array([n.zeros(len(number)),hoursMat[:,1]])\n",
    "axis.bar(x=range(len(number)),\n",
    "         height=hoursMat[:,0],\n",
    "        color=\"gray\",         \n",
    "        tick_label=hoursMat[:,2].astype(int),\n",
    "        yerr=errorbars,         \n",
    "        capsize=2,\n",
    "        ecolor=\"gray\")\n",
    "axis.set_xlabel(\"Personen ID\");\n",
    "axis.set_ylabel(\"Mittelwert Stunden Abwesenheit\");"
   ]
  },
  {
   "cell_type": "markdown",
   "metadata": {},
   "source": [
    "#### Durschnitt und Std der Person mit höchstem Durchschnittswert"
   ]
  },
  {
   "cell_type": "code",
   "execution_count": 10,
   "metadata": {},
   "outputs": [
    {
     "data": {
      "text/plain": [
       "array([[32.75      , 51.50520085,  9.        ],\n",
       "       [16.6       , 26.69831455, 26.        ],\n",
       "       [16.4137931 , 26.73082389, 14.        ],\n",
       "       [12.2       , 19.53824089, 13.        ],\n",
       "       [11.25      , 16.4935885 , 11.        ],\n",
       "       [ 9.14705882, 24.24012745, 36.        ],\n",
       "       [ 9.        ,  2.82842712,  6.        ],\n",
       "       [ 8.46666667,  8.16524735, 24.        ],\n",
       "       [ 8.        ,  0.        , 16.        ],\n",
       "       [ 7.75      ,  7.39712047, 10.        ],\n",
       "       [ 7.375     ,  6.08687112, 18.        ],\n",
       "       [ 7.28571429,  9.98361026, 20.        ],\n",
       "       [ 6.83783784, 11.26822848, 15.        ],\n",
       "       [ 6.3       ,  8.47969711, 17.        ],\n",
       "       [ 6.25454545, 11.49914358, 34.        ],\n",
       "       [ 5.5       , 10.07030839, 22.        ],\n",
       "       [ 5.47368421,  4.41422475,  5.        ],\n",
       "       [ 5.33333333,  4.61880215, 31.        ],\n",
       "       [ 5.33333333,  4.61880215, 21.        ],\n",
       "       [ 5.26086957,  3.7199388 ,  1.        ],\n",
       "       [ 5.        ,  6.164414  ,  7.        ],\n",
       "       [ 5.        ,  4.14039336, 23.        ],\n",
       "       [ 4.85714286,  2.9680842 , 12.        ],\n",
       "       [ 4.56578947, 12.74502311, 28.        ],\n",
       "       [ 4.42857143,  5.25538273, 30.        ],\n",
       "       [ 4.26548673,  4.95338575,  3.        ],\n",
       "       [ 4.2       ,  3.63318042, 29.        ],\n",
       "       [ 4.2       ,  2.65832027, 25.        ],\n",
       "       [ 4.16666667,  4.21505239,  2.        ],\n",
       "       [ 3.85714286,  2.9680842 , 27.        ],\n",
       "       [ 3.2       ,  2.77488739, 32.        ],\n",
       "       [ 3.04166667,  2.4579802 , 33.        ],\n",
       "       [ 2.        ,  2.        , 19.        ],\n",
       "       [ 0.        ,         nan,  4.        ],\n",
       "       [ 0.        ,  0.        ,  8.        ],\n",
       "       [ 0.        ,         nan, 35.        ]])"
      ]
     },
     "execution_count": 10,
     "metadata": {},
     "output_type": "execute_result"
    }
   ],
   "source": [
    "hoursMat[:,:]"
   ]
  },
  {
   "cell_type": "markdown",
   "metadata": {},
   "source": [
    "### Aufgabe 2 Gruppenbildung"
   ]
  },
  {
   "cell_type": "code",
   "execution_count": 17,
   "metadata": {},
   "outputs": [],
   "source": [
    "gViel=abw[abw.ID==9]\n",
    "gViel=pd.concat([gViel,abw[abw.ID==26]])\n",
    "gViel=pd.concat([gViel,abw[abw.ID==14]])"
   ]
  },
  {
   "cell_type": "code",
   "execution_count": 15,
   "metadata": {},
   "outputs": [],
   "source": [
    "gWenig=abw[abw.ID==4]\n",
    "gWenig=pd.concat([gWenig,abw[abw.ID==8]])\n",
    "gWenig=pd.concat([gWenig,abw[abw.ID==35]])"
   ]
  },
  {
   "cell_type": "code",
   "execution_count": 18,
   "metadata": {
    "scrolled": true
   },
   "outputs": [
    {
     "name": "stdout",
     "output_type": "stream",
     "text": [
      "42 4\n"
     ]
    }
   ],
   "source": [
    "print(len(gViel),len(gWenig))"
   ]
  },
  {
   "cell_type": "markdown",
   "metadata": {},
   "source": [
    "### Aufgabe 3 Unterschiede"
   ]
  },
  {
   "cell_type": "code",
   "execution_count": 19,
   "metadata": {},
   "outputs": [
    {
     "data": {
      "text/plain": [
       "ID                                   int64\n",
       "Reason for absence                   int64\n",
       "Month of absence                     int64\n",
       "Day of the week                      int64\n",
       "Seasons                              int64\n",
       "Transportation expense               int64\n",
       "Distance from Residence to Work      int64\n",
       "Service time                         int64\n",
       "Age                                  int64\n",
       "Work load Average/day              float64\n",
       "Hit target                           int64\n",
       "Disciplinary failure                 int64\n",
       "Education                            int64\n",
       "Son                                  int64\n",
       "Social drinker                       int64\n",
       "Social smoker                        int64\n",
       "Pet                                  int64\n",
       "Weight                               int64\n",
       "Height                               int64\n",
       "bodyMass                             int64\n",
       "hours                                int64\n",
       "dtype: object"
      ]
     },
     "execution_count": 19,
     "metadata": {},
     "output_type": "execute_result"
    }
   ],
   "source": [
    "gViel.dtypes"
   ]
  },
  {
   "cell_type": "code",
   "execution_count": 28,
   "metadata": {},
   "outputs": [
    {
     "name": "stdout",
     "output_type": "stream",
     "text": [
      "var ID tval= 0.2 pval= 0.8 μViel=14.5 meanWenig=13.8\n",
      "var Reason for absence tval= 4.6 pval= 0.0 μViel=18.0 meanWenig=0.0\n",
      "var Month of absence tval= 2.0 pval= 0.1 μViel=5.5 meanWenig=2.2\n",
      "var Day of the week tval= 0.7 pval= 0.5 μViel=3.5 meanWenig=4.0\n",
      "var Seasons tval= 1.1 pval= 0.3 μViel=2.3 meanWenig=1.8\n",
      "var Transportation expense tval= 0.1 pval= 0.9 μViel=186.2 meanWenig=189.8\n",
      "var Distance from Residence to Work tval= 6.3 pval= 0.0 μViel=14.0 meanWenig=32.2\n",
      "var Service time tval= 1.1 pval= 0.3 μViel=14.3 meanWenig=13.8\n",
      "var Age tval= 0.6 pval= 0.5 μViel=39.6 meanWenig=42.8\n",
      "var Work load Average/day  tval= 0.3 pval= 0.8 μViel=283.6 meanWenig=277.0\n",
      "var Hit target tval= 2.3 pval= 0.0 μViel=95.7 meanWenig=91.5\n",
      "var Disciplinary failure tval= 3.7 pval= 0.0 μViel=0.0 meanWenig=0.2\n",
      "var Education tval= nan pval= nan μViel=1.0 meanWenig=1.0\n",
      "var Son tval= 6.3 pval= 0.0 μViel=2.0 meanWenig=1.5\n",
      "var Social drinker tval= 0.3 pval= 0.8 μViel=0.8 meanWenig=0.8\n",
      "var Social smoker tval= 0.7 pval= 0.5 μViel=0.1 meanWenig=0.0\n",
      "var Pet tval= 5.9 pval= 0.0 μViel=0.3 meanWenig=3.2\n",
      "var Weight tval= 1.0 pval= 0.3 μViel=87.1 meanWenig=93.8\n",
      "var Height tval= 3.3 pval= 0.0 μViel=188.9 meanWenig=171.2\n",
      "var bodyMass tval= 8.7 pval= 0.0 μViel=24.4 meanWenig=32.2\n",
      "var hours tval= 1.2 pval= 0.2 μViel=19.5 meanWenig=0.0\n"
     ]
    }
   ],
   "source": [
    "from scipy.stats  import ttest_ind\n",
    "pValues=[]\n",
    "for testvar in gViel.keys():\n",
    "    if gViel.dtypes[testvar]==\"int64\" or gViel.dtypes[testvar]==\"float64\": #int64 == interval scaled variable\n",
    "        tval,pval=ttest_ind(gViel[testvar],gWenig[testvar])\n",
    "        meanViel=gViel[testvar].mean();\n",
    "        stdViel=gViel[testvar].mean();\n",
    "        meanWenig=gWenig[testvar].mean();\n",
    "        stdWenig=gWenig[testvar].mean();\n",
    "        pValues.append((pval.round(3),testvar))\n",
    "        print(\"var\",testvar,\"tval=\",'{:.1f}'.format(abs(tval)),\"pval=\",'{:.1f}'.format(pval),\"μViel=\"+'{:.1f}'.format(meanViel),\"meanWenig=\"+'{:.1f}'.format(meanWenig))\n"
   ]
  },
  {
   "cell_type": "markdown",
   "metadata": {},
   "source": [
    "#### Sortierung der pValues und Ausgabe der Variablen mit kleinstem pValue"
   ]
  },
  {
   "cell_type": "code",
   "execution_count": 29,
   "metadata": {},
   "outputs": [
    {
     "data": {
      "text/plain": [
       "[(0.0, 'Distance from Residence to Work'),\n",
       " (0.0, 'Pet'),\n",
       " (0.0, 'Reason for absence'),\n",
       " (0.0, 'Son'),\n",
       " (0.0, 'bodyMass'),\n",
       " (0.001, 'Disciplinary failure'),\n",
       " (0.002, 'Height'),\n",
       " (0.028, 'Hit target'),\n",
       " (0.052, 'Month of absence'),\n",
       " (0.239, 'hours'),\n",
       " (0.278, 'Service time'),\n",
       " (0.297, 'Seasons'),\n",
       " (0.308, 'Weight'),\n",
       " (0.463, 'Day of the week'),\n",
       " (0.476, 'Social smoker'),\n",
       " (0.527, 'Age'),\n",
       " (0.78, 'Social drinker'),\n",
       " (0.784, 'Work load Average/day '),\n",
       " (0.815, 'ID'),\n",
       " (0.894, 'Transportation expense'),\n",
       " (nan, 'Education')]"
      ]
     },
     "execution_count": 29,
     "metadata": {},
     "output_type": "execute_result"
    }
   ],
   "source": [
    "pValues.sort()\n",
    "pValues"
   ]
  },
  {
   "cell_type": "code",
   "execution_count": 24,
   "metadata": {},
   "outputs": [],
   "source": [
    "def compareBar(aAxis,aVariable,aLabel):\n",
    "    #errorbars=n.array([n.zeros(len(number)),hoursMat[:,1]])\n",
    "    heights=[gViel[aVariable].mean(),gWenig[aVariable].mean()]\n",
    "    stds=[gViel[aVariable].std(),gWenig[aVariable].std()]\n",
    "    errorbars=n.array([n.zeros(2),stds])\n",
    "    print(aLabel,\"μViel={:.1f} ± σViel={:.1f}\".format(heights[0],stds[0]))\n",
    "    print(aLabel,\"μWenig={:.1f} ± σWenig={:.1f}\".format(heights[1],stds[1]))\n",
    "    aAxis.bar(x=[0,1],\n",
    "        height=heights,\n",
    "        color=\"gray\",         \n",
    "        tick_label=[\"gViel\",\"gWenig\"],\n",
    "        yerr=errorbars,         \n",
    "        capsize=2,\n",
    "        ecolor=\"gray\",\n",
    "        width=0.4)\n",
    "    aAxis.set_xlabel(\"Gruppe\");\n",
    "    aAxis.set_ylabel(aLabel);\n",
    "    "
   ]
  },
  {
   "cell_type": "code",
   "execution_count": 27,
   "metadata": {},
   "outputs": [
    {
     "name": "stdout",
     "output_type": "stream",
     "text": [
      "bodyMass μViel=24.4 ± σViel=1.2\n",
      "bodyMass μWenig=32.2 ± σWenig=4.9\n",
      "Reason for absence μViel=18.0 ± σViel=7.8\n",
      "Reason for absence μWenig=0.0 ± σWenig=0.0\n",
      "Son μViel=2.0 ± σViel=0.0\n",
      "Son μWenig=1.5 ± σWenig=0.6\n",
      "Disciplinary failure μViel=0.0 ± σViel=0.0\n",
      "Disciplinary failure μWenig=0.2 ± σWenig=0.5\n",
      "Distance from Residence to Work μViel=14.0 ± σViel=4.5\n",
      "Distance from Residence to Work μWenig=32.2 ± σWenig=13.0\n",
      "Height μViel=188.9 ± σViel=10.7\n",
      "Height μWenig=171.2 ± σWenig=2.5\n",
      "Pet μViel=0.3 ± σViel=0.5\n",
      "Pet μWenig=3.2 ± σWenig=3.2\n",
      "Hit target μViel=95.7 ± σViel=3.1\n",
      "Hit target μWenig=91.5 ± σWenig=7.0\n"
     ]
    },
    {
     "data": {
      "image/png": "[encoded data removed]",
      "text/plain": [
       "<Figure size 720x648 with 8 Axes>"
      ]
     },
     "metadata": {
      "needs_background": "light"
     },
     "output_type": "display_data"
    }
   ],
   "source": [
    "figure,axes=plt.subplots(ncols=4,nrows=2,figsize=(10,9))\n",
    "figure.suptitle(\"Signifikante Unterschiede\");\n",
    "\n",
    "for c in range(4):\n",
    "    for r in range(2):\n",
    "        \n",
    "        varName=pValues[r*4+c][1]\n",
    "        compareBar(axes[r][c],varName,varName)\n",
    "\n",
    "plt.subplots_adjust(left=0.1,\n",
    "                    bottom=0.1, \n",
    "                    right=0.9, \n",
    "                    top=0.9, \n",
    "                    wspace=0.8, \n",
    "                    hspace=0.4)\n",
    "plt.show()"
   ]
  },
  {
   "cell_type": "code",
   "execution_count": null,
   "metadata": {},
   "outputs": [],
   "source": []
  }
 ],
 "metadata": {
  "kernelspec": {
   "display_name": "Python 3",
   "language": "python",
   "name": "python3"
  },
  "language_info": {
   "codemirror_mode": {
    "name": "ipython",
    "version": 3
   },
   "file_extension": ".py",
   "mimetype": "text/x-python",
   "name": "python",
   "nbconvert_exporter": "python",
   "pygments_lexer": "ipython3",
   "version": "3.7.7"
  }
 },
 "nbformat": 4,
 "nbformat_minor": 4
}
