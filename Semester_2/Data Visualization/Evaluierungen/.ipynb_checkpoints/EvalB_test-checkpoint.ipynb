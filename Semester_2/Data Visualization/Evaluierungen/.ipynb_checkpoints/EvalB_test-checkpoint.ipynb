{
 "cells": [
  {
   "cell_type": "code",
   "execution_count": 1,
   "id": "575080a8-261f-4d5c-acd2-058bdc333bef",
   "metadata": {},
   "outputs": [],
   "source": [
    "import pandas as pd\n",
    "import numpy as np\n",
    "import matplotlib.pyplot as plt\n",
    "\n",
    "from datetime import datetime\n",
    "from scipy import stats\n",
    "from collections import Counter\n",
    "\n",
    "from scipy.stats import ttest_ind\n",
    "from scipy.stats import chi2_contingency\n",
    "\n",
    "\n",
    "plt.style.use(\"seaborn\")\n",
    "\n",
    "u, s = \"µ\", \"σ\""
   ]
  },
  {
   "cell_type": "code",
   "execution_count": 2,
   "id": "832710d3-26ec-4f97-b67f-cfe73323373a",
   "metadata": {},
   "outputs": [],
   "source": [
    "def test_normal(x):\n",
    "    k2, p = stats.normaltest(x)\n",
    "    alpha = 1e-3\n",
    "    print(\"p = {:g}\".format(p))\n",
    "    if p < alpha:  # null hypothesis: x comes from a normal distribution\n",
    "        print(\"It's not a normal distribution\")\n",
    "    else:\n",
    "        print(\"It's a normal distribution\")\n",
    "        \n",
    "    plt.hist(x)\n",
    "    plt.show()"
   ]
  },
  {
   "cell_type": "markdown",
   "id": "0bd8f784-5a13-4198-b6c6-38f48f1c0259",
   "metadata": {},
   "source": [
    "# Aufgabe 1"
   ]
  },
  {
   "cell_type": "code",
   "execution_count": 3,
   "id": "c4c6ce10-380e-4f7c-9b6f-6fd12d3580a0",
   "metadata": {},
   "outputs": [
    {
     "name": "stdout",
     "output_type": "stream",
     "text": [
      "(1000, 21)\n",
      "Index(['checking account', 'duration [month]', 'credit history', 'purpose',\n",
      "       'amount', 'savings', 'employment', 'installment', 'status', 'debtors',\n",
      "       'resident since', 'property', 'age [years]', 'plans', 'housing',\n",
      "       'existing credits', 'job', 'maintaining people', 'phone registered',\n",
      "       'foreign worker', 'classification'],\n",
      "      dtype='object')\n"
     ]
    },
    {
     "data": {
      "text/html": [
       "<div>\n",
       "<style scoped>\n",
       "    .dataframe tbody tr th:only-of-type {\n",
       "        vertical-align: middle;\n",
       "    }\n",
       "\n",
       "    .dataframe tbody tr th {\n",
       "        vertical-align: top;\n",
       "    }\n",
       "\n",
       "    .dataframe thead th {\n",
       "        text-align: right;\n",
       "    }\n",
       "</style>\n",
       "<table border=\"1\" class=\"dataframe\">\n",
       "  <thead>\n",
       "    <tr style=\"text-align: right;\">\n",
       "      <th></th>\n",
       "      <th>checking account</th>\n",
       "      <th>duration [month]</th>\n",
       "      <th>credit history</th>\n",
       "      <th>purpose</th>\n",
       "      <th>amount</th>\n",
       "      <th>savings</th>\n",
       "      <th>employment</th>\n",
       "      <th>installment</th>\n",
       "      <th>status</th>\n",
       "      <th>debtors</th>\n",
       "      <th>...</th>\n",
       "      <th>property</th>\n",
       "      <th>age [years]</th>\n",
       "      <th>plans</th>\n",
       "      <th>housing</th>\n",
       "      <th>existing credits</th>\n",
       "      <th>job</th>\n",
       "      <th>maintaining people</th>\n",
       "      <th>phone registered</th>\n",
       "      <th>foreign worker</th>\n",
       "      <th>classification</th>\n",
       "    </tr>\n",
       "  </thead>\n",
       "  <tbody>\n",
       "    <tr>\n",
       "      <th>0</th>\n",
       "      <td>A11</td>\n",
       "      <td>6</td>\n",
       "      <td>A34</td>\n",
       "      <td>A43</td>\n",
       "      <td>1169</td>\n",
       "      <td>A65</td>\n",
       "      <td>A75</td>\n",
       "      <td>4</td>\n",
       "      <td>A93</td>\n",
       "      <td>A101</td>\n",
       "      <td>...</td>\n",
       "      <td>A121</td>\n",
       "      <td>67</td>\n",
       "      <td>A143</td>\n",
       "      <td>A152</td>\n",
       "      <td>2</td>\n",
       "      <td>A173</td>\n",
       "      <td>1</td>\n",
       "      <td>A192</td>\n",
       "      <td>A201</td>\n",
       "      <td>good</td>\n",
       "    </tr>\n",
       "    <tr>\n",
       "      <th>1</th>\n",
       "      <td>A12</td>\n",
       "      <td>48</td>\n",
       "      <td>A32</td>\n",
       "      <td>A43</td>\n",
       "      <td>5951</td>\n",
       "      <td>A61</td>\n",
       "      <td>A73</td>\n",
       "      <td>2</td>\n",
       "      <td>A92</td>\n",
       "      <td>A101</td>\n",
       "      <td>...</td>\n",
       "      <td>A121</td>\n",
       "      <td>22</td>\n",
       "      <td>A143</td>\n",
       "      <td>A152</td>\n",
       "      <td>1</td>\n",
       "      <td>A173</td>\n",
       "      <td>1</td>\n",
       "      <td>A191</td>\n",
       "      <td>A201</td>\n",
       "      <td>bad</td>\n",
       "    </tr>\n",
       "    <tr>\n",
       "      <th>2</th>\n",
       "      <td>A14</td>\n",
       "      <td>12</td>\n",
       "      <td>A34</td>\n",
       "      <td>A46</td>\n",
       "      <td>2096</td>\n",
       "      <td>A61</td>\n",
       "      <td>A74</td>\n",
       "      <td>2</td>\n",
       "      <td>A93</td>\n",
       "      <td>A101</td>\n",
       "      <td>...</td>\n",
       "      <td>A121</td>\n",
       "      <td>49</td>\n",
       "      <td>A143</td>\n",
       "      <td>A152</td>\n",
       "      <td>1</td>\n",
       "      <td>A172</td>\n",
       "      <td>2</td>\n",
       "      <td>A191</td>\n",
       "      <td>A201</td>\n",
       "      <td>good</td>\n",
       "    </tr>\n",
       "    <tr>\n",
       "      <th>3</th>\n",
       "      <td>A11</td>\n",
       "      <td>42</td>\n",
       "      <td>A32</td>\n",
       "      <td>A42</td>\n",
       "      <td>7882</td>\n",
       "      <td>A61</td>\n",
       "      <td>A74</td>\n",
       "      <td>2</td>\n",
       "      <td>A93</td>\n",
       "      <td>A103</td>\n",
       "      <td>...</td>\n",
       "      <td>A122</td>\n",
       "      <td>45</td>\n",
       "      <td>A143</td>\n",
       "      <td>A153</td>\n",
       "      <td>1</td>\n",
       "      <td>A173</td>\n",
       "      <td>2</td>\n",
       "      <td>A191</td>\n",
       "      <td>A201</td>\n",
       "      <td>good</td>\n",
       "    </tr>\n",
       "    <tr>\n",
       "      <th>4</th>\n",
       "      <td>A11</td>\n",
       "      <td>24</td>\n",
       "      <td>A33</td>\n",
       "      <td>A40</td>\n",
       "      <td>4870</td>\n",
       "      <td>A61</td>\n",
       "      <td>A73</td>\n",
       "      <td>3</td>\n",
       "      <td>A93</td>\n",
       "      <td>A101</td>\n",
       "      <td>...</td>\n",
       "      <td>A124</td>\n",
       "      <td>53</td>\n",
       "      <td>A143</td>\n",
       "      <td>A153</td>\n",
       "      <td>2</td>\n",
       "      <td>A173</td>\n",
       "      <td>2</td>\n",
       "      <td>A191</td>\n",
       "      <td>A201</td>\n",
       "      <td>bad</td>\n",
       "    </tr>\n",
       "  </tbody>\n",
       "</table>\n",
       "<p>5 rows × 21 columns</p>\n",
       "</div>"
      ],
      "text/plain": [
       "  checking account  duration [month] credit history purpose  amount savings  \\\n",
       "0              A11                 6            A34     A43    1169     A65   \n",
       "1              A12                48            A32     A43    5951     A61   \n",
       "2              A14                12            A34     A46    2096     A61   \n",
       "3              A11                42            A32     A42    7882     A61   \n",
       "4              A11                24            A33     A40    4870     A61   \n",
       "\n",
       "  employment  installment status debtors  ...  property age [years]  plans  \\\n",
       "0        A75            4    A93    A101  ...      A121          67   A143   \n",
       "1        A73            2    A92    A101  ...      A121          22   A143   \n",
       "2        A74            2    A93    A101  ...      A121          49   A143   \n",
       "3        A74            2    A93    A103  ...      A122          45   A143   \n",
       "4        A73            3    A93    A101  ...      A124          53   A143   \n",
       "\n",
       "  housing existing credits   job maintaining people  phone registered  \\\n",
       "0    A152                2  A173                  1              A192   \n",
       "1    A152                1  A173                  1              A191   \n",
       "2    A152                1  A172                  2              A191   \n",
       "3    A153                1  A173                  2              A191   \n",
       "4    A153                2  A173                  2              A191   \n",
       "\n",
       "  foreign worker classification  \n",
       "0           A201           good  \n",
       "1           A201            bad  \n",
       "2           A201           good  \n",
       "3           A201           good  \n",
       "4           A201            bad  \n",
       "\n",
       "[5 rows x 21 columns]"
      ]
     },
     "execution_count": 3,
     "metadata": {},
     "output_type": "execute_result"
    }
   ],
   "source": [
    "df = pd.read_csv(\"data/credict_data_german.csv2.csv\")\n",
    "print(df.shape)\n",
    "print(df.columns)\n",
    "df.head()"
   ]
  },
  {
   "cell_type": "code",
   "execution_count": 4,
   "id": "45739235-7dd3-4eac-986d-ea3cfbeb78ad",
   "metadata": {},
   "outputs": [
    {
     "data": {
      "text/plain": [
       "amount              installment          -0.271316\n",
       "installment         amount               -0.271316\n",
       "                    maintaining people   -0.071207\n",
       "maintaining people  installment          -0.071207\n",
       "age [years]         duration [month]     -0.036136\n",
       "duration [month]    age [years]          -0.036136\n",
       "maintaining people  duration [month]     -0.023834\n",
       "duration [month]    maintaining people   -0.023834\n",
       "existing credits    duration [month]     -0.011284\n",
       "duration [month]    existing credits     -0.011284\n",
       "amount              maintaining people    0.017142\n",
       "maintaining people  amount                0.017142\n",
       "existing credits    amount                0.020795\n",
       "amount              existing credits      0.020795\n",
       "existing credits    installment           0.021669\n",
       "installment         existing credits      0.021669\n",
       "amount              resident since        0.028926\n",
       "resident since      amount                0.028926\n",
       "amount              age [years]           0.032716\n",
       "age [years]         amount                0.032716\n",
       "resident since      duration [month]      0.034067\n",
       "duration [month]    resident since        0.034067\n",
       "resident since      maintaining people    0.042643\n",
       "maintaining people  resident since        0.042643\n",
       "installment         resident since        0.049302\n",
       "resident since      installment           0.049302\n",
       "installment         age [years]           0.058266\n",
       "age [years]         installment           0.058266\n",
       "installment         duration [month]      0.074749\n",
       "duration [month]    installment           0.074749\n",
       "existing credits    resident since        0.089625\n",
       "resident since      existing credits      0.089625\n",
       "maintaining people  existing credits      0.109667\n",
       "existing credits    maintaining people    0.109667\n",
       "maintaining people  age [years]           0.118201\n",
       "age [years]         maintaining people    0.118201\n",
       "existing credits    age [years]           0.149254\n",
       "age [years]         existing credits      0.149254\n",
       "                    resident since        0.266419\n",
       "resident since      age [years]           0.266419\n",
       "duration [month]    amount                0.624984\n",
       "amount              duration [month]      0.624984\n",
       "duration [month]    duration [month]      1.000000\n",
       "resident since      resident since        1.000000\n",
       "age [years]         age [years]           1.000000\n",
       "installment         installment           1.000000\n",
       "amount              amount                1.000000\n",
       "existing credits    existing credits      1.000000\n",
       "maintaining people  maintaining people    1.000000\n",
       "dtype: float64"
      ]
     },
     "execution_count": 4,
     "metadata": {},
     "output_type": "execute_result"
    }
   ],
   "source": [
    "# amount // duration [month]\n",
    "df.corr().unstack().sort_values()"
   ]
  },
  {
   "cell_type": "code",
   "execution_count": 5,
   "id": "69a54870-2d1c-4cfb-8e99-c4f1436c3f09",
   "metadata": {},
   "outputs": [
    {
     "name": "stderr",
     "output_type": "stream",
     "text": [
      "No handles with labels found to put in legend.\n"
     ]
    },
    {
     "data": {
      "image/png": "[encoded data removed]",
      "text/plain": [
       "<Figure size 1080x576 with 1 Axes>"
      ]
     },
     "metadata": {},
     "output_type": "display_data"
    },
    {
     "name": "stdout",
     "output_type": "stream",
     "text": [
      "\n",
      "#########################################\n",
      "CAPTION: Abbildung 1\n",
      "Auf dieser Abbildung ist die Korrelation zwischen \n",
      "der Höhe des vergebenen Kredits und der Dauer in Monaten\n",
      "angegeben. \n",
      "Diese Variablen haben eine statistische Abhängigkeit\n",
      "von p=0.6249841983009851\n",
      "#########################################\n",
      "\n"
     ]
    }
   ],
   "source": [
    "plot_df = df[[\"amount\", \"duration [month]\"]]\n",
    "x_data = df[\"duration [month]\"] # can be a range object\n",
    "y_data = df[\"amount\"]\n",
    "\n",
    "title = \"Korrelation zwischen 'amount' und 'duration [month]' durch größte statistische Abhängigkeit\"\n",
    "x_label = \"Duration in months\"\n",
    "y_label = \"Amount in DM\"\n",
    "\n",
    "caption = f\"\"\"\n",
    "#########################################\n",
    "CAPTION: Abbildung 1\n",
    "Auf dieser Abbildung ist die Korrelation zwischen \n",
    "der Höhe des vergebenen Kredits und der Dauer in Monaten\n",
    "angegeben. \n",
    "Diese Variablen haben eine statistische Abhängigkeit\n",
    "von p={df.corr().unstack().sort_values()[-8]}\n",
    "#########################################\n",
    "\"\"\"\n",
    "\n",
    "# size = np.array(list(Counter(data).values())) * 15\n",
    "# data_x = [x for x, _ in Counter(data).keys()]\n",
    "# data_y = [y for _, y in Counter(data).keys()]\n",
    "\n",
    "\n",
    "plt.figure(figsize=(15, 8))\n",
    "plt.title(title, size=20)\n",
    "\n",
    "plt.scatter(x=x_data, y=y_data, color=\"gray\") #s=size\n",
    "\n",
    "plt.xlabel(x_label)\n",
    "plt.ylabel(y_label)\n",
    "\n",
    "plt.legend()\n",
    "\n",
    "plt.show()\n",
    "print(caption)"
   ]
  },
  {
   "cell_type": "markdown",
   "id": "281a5de7-7dd9-447b-a6a6-9da08339d975",
   "metadata": {},
   "source": [
    "# Aufgabe 2"
   ]
  },
  {
   "cell_type": "code",
   "execution_count": 6,
   "id": "e3164182-c60c-461e-b1c5-5ac748674050",
   "metadata": {},
   "outputs": [
    {
     "data": {
      "text/html": [
       "<div>\n",
       "<style scoped>\n",
       "    .dataframe tbody tr th:only-of-type {\n",
       "        vertical-align: middle;\n",
       "    }\n",
       "\n",
       "    .dataframe tbody tr th {\n",
       "        vertical-align: top;\n",
       "    }\n",
       "\n",
       "    .dataframe thead th {\n",
       "        text-align: right;\n",
       "    }\n",
       "</style>\n",
       "<table border=\"1\" class=\"dataframe\">\n",
       "  <thead>\n",
       "    <tr style=\"text-align: right;\">\n",
       "      <th></th>\n",
       "      <th>checking account</th>\n",
       "      <th>duration [month]</th>\n",
       "      <th>credit history</th>\n",
       "      <th>purpose</th>\n",
       "      <th>amount</th>\n",
       "      <th>savings</th>\n",
       "      <th>employment</th>\n",
       "      <th>installment</th>\n",
       "      <th>status</th>\n",
       "      <th>debtors</th>\n",
       "      <th>...</th>\n",
       "      <th>property</th>\n",
       "      <th>age [years]</th>\n",
       "      <th>plans</th>\n",
       "      <th>housing</th>\n",
       "      <th>existing credits</th>\n",
       "      <th>job</th>\n",
       "      <th>maintaining people</th>\n",
       "      <th>phone registered</th>\n",
       "      <th>foreign worker</th>\n",
       "      <th>classification</th>\n",
       "    </tr>\n",
       "  </thead>\n",
       "  <tbody>\n",
       "    <tr>\n",
       "      <th>0</th>\n",
       "      <td>A11</td>\n",
       "      <td>6</td>\n",
       "      <td>A34</td>\n",
       "      <td>A43</td>\n",
       "      <td>1169</td>\n",
       "      <td>A65</td>\n",
       "      <td>A75</td>\n",
       "      <td>4</td>\n",
       "      <td>A93</td>\n",
       "      <td>A101</td>\n",
       "      <td>...</td>\n",
       "      <td>A121</td>\n",
       "      <td>67</td>\n",
       "      <td>A143</td>\n",
       "      <td>A152</td>\n",
       "      <td>2</td>\n",
       "      <td>A173</td>\n",
       "      <td>1</td>\n",
       "      <td>A192</td>\n",
       "      <td>A201</td>\n",
       "      <td>good</td>\n",
       "    </tr>\n",
       "  </tbody>\n",
       "</table>\n",
       "<p>1 rows × 21 columns</p>\n",
       "</div>"
      ],
      "text/plain": [
       "  checking account  duration [month] credit history purpose  amount savings  \\\n",
       "0              A11                 6            A34     A43    1169     A65   \n",
       "\n",
       "  employment  installment status debtors  ...  property age [years]  plans  \\\n",
       "0        A75            4    A93    A101  ...      A121          67   A143   \n",
       "\n",
       "  housing existing credits   job maintaining people  phone registered  \\\n",
       "0    A152                2  A173                  1              A192   \n",
       "\n",
       "  foreign worker classification  \n",
       "0           A201           good  \n",
       "\n",
       "[1 rows x 21 columns]"
      ]
     },
     "execution_count": 6,
     "metadata": {},
     "output_type": "execute_result"
    }
   ],
   "source": [
    "df.head(1)"
   ]
  },
  {
   "cell_type": "code",
   "execution_count": 7,
   "id": "13ff970b-e46f-4311-b533-f0b0edf0481b",
   "metadata": {},
   "outputs": [
    {
     "data": {
      "image/png": "[encoded data removed]",
      "text/plain": [
       "<Figure size 576x576 with 1 Axes>"
      ]
     },
     "metadata": {},
     "output_type": "display_data"
    },
    {
     "name": "stdout",
     "output_type": "stream",
     "text": [
      "\n",
      "#########################################\n",
      "CAPTION: Abbildung 2\n",
      "Auf dieser Abbildung kann man den Unterschied\n",
      "in der Dauer zwischen guten und schlechten \n",
      "Krediten erkennen. Diese sind statistisch \n",
      "voneinander abhängig.\n",
      "t_val=-6.9522507242467215, p_val=6.4880498771843485e-12\n",
      "#########################################\n",
      "\n"
     ]
    }
   ],
   "source": [
    "cl_good = df[df[\"classification\"] == \"good\"][\"duration [month]\"]\n",
    "cl_bad = df[df[\"classification\"] == \"bad\"][\"duration [month]\"]\n",
    "\n",
    "t_val, p_val = ttest_ind(cl_good, cl_bad)\n",
    "\n",
    "\n",
    "x_data = [\"Good\", \"Bad\"]\n",
    "y_data = [cl_good.mean(), cl_bad.mean()]\n",
    "\n",
    "title = \"Vergleich der Dauer zwischen guten und schlechten Krediten\"\n",
    "x_label = \"Güte des Kredits\"\n",
    "y_label = \"Dauer in Monaten\"\n",
    "\n",
    "caption = f\"\"\"\n",
    "#########################################\n",
    "CAPTION: Abbildung 2\n",
    "Auf dieser Abbildung kann man den Unterschied\n",
    "in der Dauer zwischen guten und schlechten \n",
    "Krediten erkennen. Diese sind statistisch \n",
    "voneinander abhängig.\n",
    "t_val={t_val}, p_val={p_val}\n",
    "#########################################\n",
    "\"\"\"\n",
    "\n",
    "plt.figure(figsize=(8, 8))\n",
    "\n",
    "plt.title(title, size=20)\n",
    "plt.xlabel(x_label)\n",
    "plt.ylabel(y_label)\n",
    "plt.xticks()\n",
    "\n",
    "plt.bar(x=x_data, height=y_data, color=\"gray\")\n",
    "plt.errorbar(x_data, y=y_data, yerr=[cl_good.std(), cl_bad.std()], ls=\"none\", color=\"gray\", capsize=5, capthick=3)\n",
    "\n",
    "plt.show()\n",
    "print(caption)"
   ]
  },
  {
   "cell_type": "markdown",
   "id": "2c8c5a38-d05a-4d37-a903-1ccffc81d0ae",
   "metadata": {},
   "source": [
    "# Aufgabe 3"
   ]
  },
  {
   "cell_type": "code",
   "execution_count": 8,
   "id": "83580dae-724f-4ef4-b340-9b26971aa833",
   "metadata": {},
   "outputs": [
    {
     "data": {
      "text/html": [
       "<div>\n",
       "<style scoped>\n",
       "    .dataframe tbody tr th:only-of-type {\n",
       "        vertical-align: middle;\n",
       "    }\n",
       "\n",
       "    .dataframe tbody tr th {\n",
       "        vertical-align: top;\n",
       "    }\n",
       "\n",
       "    .dataframe thead th {\n",
       "        text-align: right;\n",
       "    }\n",
       "</style>\n",
       "<table border=\"1\" class=\"dataframe\">\n",
       "  <thead>\n",
       "    <tr style=\"text-align: right;\">\n",
       "      <th></th>\n",
       "      <th>checking account</th>\n",
       "      <th>duration [month]</th>\n",
       "      <th>credit history</th>\n",
       "      <th>purpose</th>\n",
       "      <th>amount</th>\n",
       "      <th>savings</th>\n",
       "      <th>employment</th>\n",
       "      <th>installment</th>\n",
       "      <th>status</th>\n",
       "      <th>debtors</th>\n",
       "      <th>...</th>\n",
       "      <th>property</th>\n",
       "      <th>age [years]</th>\n",
       "      <th>plans</th>\n",
       "      <th>housing</th>\n",
       "      <th>existing credits</th>\n",
       "      <th>job</th>\n",
       "      <th>maintaining people</th>\n",
       "      <th>phone registered</th>\n",
       "      <th>foreign worker</th>\n",
       "      <th>classification</th>\n",
       "    </tr>\n",
       "  </thead>\n",
       "  <tbody>\n",
       "    <tr>\n",
       "      <th>0</th>\n",
       "      <td>A11</td>\n",
       "      <td>6</td>\n",
       "      <td>A34</td>\n",
       "      <td>A43</td>\n",
       "      <td>1169</td>\n",
       "      <td>A65</td>\n",
       "      <td>A75</td>\n",
       "      <td>4</td>\n",
       "      <td>A93</td>\n",
       "      <td>A101</td>\n",
       "      <td>...</td>\n",
       "      <td>A121</td>\n",
       "      <td>67</td>\n",
       "      <td>A143</td>\n",
       "      <td>A152</td>\n",
       "      <td>2</td>\n",
       "      <td>A173</td>\n",
       "      <td>1</td>\n",
       "      <td>A192</td>\n",
       "      <td>A201</td>\n",
       "      <td>good</td>\n",
       "    </tr>\n",
       "  </tbody>\n",
       "</table>\n",
       "<p>1 rows × 21 columns</p>\n",
       "</div>"
      ],
      "text/plain": [
       "  checking account  duration [month] credit history purpose  amount savings  \\\n",
       "0              A11                 6            A34     A43    1169     A65   \n",
       "\n",
       "  employment  installment status debtors  ...  property age [years]  plans  \\\n",
       "0        A75            4    A93    A101  ...      A121          67   A143   \n",
       "\n",
       "  housing existing credits   job maintaining people  phone registered  \\\n",
       "0    A152                2  A173                  1              A192   \n",
       "\n",
       "  foreign worker classification  \n",
       "0           A201           good  \n",
       "\n",
       "[1 rows x 21 columns]"
      ]
     },
     "execution_count": 8,
     "metadata": {},
     "output_type": "execute_result"
    }
   ],
   "source": [
    "df.head(1)"
   ]
  },
  {
   "cell_type": "code",
   "execution_count": 9,
   "id": "9c91a04a-abb7-4758-837e-c4dff2bc448a",
   "metadata": {},
   "outputs": [
    {
     "name": "stdout",
     "output_type": "stream",
     "text": [
      "\n",
      "#########################################\n",
      "Checking Account vs. Classification\n",
      "\n",
      "classification    bad  good\n",
      "checking account           \n",
      "A11               135   139\n",
      "A12               105   164\n",
      "A13                14    49\n",
      "A14                46   348\n",
      "\n",
      "X²-Wert=123.72094351626559, p_val=1.2189020722893842e-26\n",
      "#########################################\n",
      "\n"
     ]
    }
   ],
   "source": [
    "crosstab = pd.crosstab(df[\"checking account\"], df[\"classification\"])\n",
    "chi2, pval, dof, expectedFreq=chi2_contingency(crosstab)\n",
    "\n",
    "output = f\"\"\"\n",
    "#########################################\n",
    "Checking Account vs. Classification\n",
    "\n",
    "{crosstab}\n",
    "\n",
    "X²-Wert={chi2}, p_val={pval}\n",
    "#########################################\n",
    "\"\"\"\n",
    "\n",
    "print(output)"
   ]
  },
  {
   "cell_type": "code",
   "execution_count": 10,
   "id": "e15353e1-d328-4d2e-a302-2b701438cee9",
   "metadata": {},
   "outputs": [
    {
     "name": "stdout",
     "output_type": "stream",
     "text": [
      "\n",
      "#########################################\n",
      "Job vs. Classification\n",
      "\n",
      "classification  bad  good\n",
      "job                      \n",
      "A171              7    15\n",
      "A172             56   144\n",
      "A173            186   444\n",
      "A174             51    97\n",
      "\n",
      "X²-Wert=1.8851560280131707, p_val=0.5965815918843431\n",
      "#########################################\n",
      "\n"
     ]
    }
   ],
   "source": [
    "crosstab = pd.crosstab(df[\"job\"], df[\"classification\"])\n",
    "chi2, pval, dof, expectedFreq=chi2_contingency(crosstab)\n",
    "\n",
    "output = f\"\"\"\n",
    "#########################################\n",
    "Job vs. Classification\n",
    "\n",
    "{crosstab}\n",
    "\n",
    "X²-Wert={chi2}, p_val={pval}\n",
    "#########################################\n",
    "\"\"\"\n",
    "\n",
    "print(output)"
   ]
  },
  {
   "cell_type": "code",
   "execution_count": 11,
   "id": "06f677c8-98ef-4ef3-a9bf-8b28838accea",
   "metadata": {},
   "outputs": [
    {
     "name": "stdout",
     "output_type": "stream",
     "text": [
      "\n",
      "Es ist zu erkennen, dass CheckingAccount - Classification durch den geringen p-Wert statistisch voneinander \n",
      "abhängig sind.\n",
      "Bei der Kombination Job - Classification haben wir im Gegensatz einen relativ hohen p-Wert, was das Gegenteil bezeugt.\n",
      "\n"
     ]
    }
   ],
   "source": [
    "output = \"\"\"\n",
    "Es ist zu erkennen, dass CheckingAccount - Classification durch den geringen p-Wert statistisch voneinander \n",
    "abhängig sind.\n",
    "Bei der Kombination Job - Classification haben wir im Gegensatz einen relativ hohen p-Wert, was das Gegenteil bezeugt.\n",
    "\"\"\"\n",
    "print(output)"
   ]
  },
  {
   "cell_type": "markdown",
   "id": "00484677-efc8-404b-82f5-fc6ba6f2e16a",
   "metadata": {},
   "source": [
    "# Aufgabe 4"
   ]
  },
  {
   "cell_type": "code",
   "execution_count": 12,
   "id": "a90c70b3-aff5-46c7-aa67-4ec02d887a9f",
   "metadata": {},
   "outputs": [
    {
     "data": {
      "text/html": [
       "<div>\n",
       "<style scoped>\n",
       "    .dataframe tbody tr th:only-of-type {\n",
       "        vertical-align: middle;\n",
       "    }\n",
       "\n",
       "    .dataframe tbody tr th {\n",
       "        vertical-align: top;\n",
       "    }\n",
       "\n",
       "    .dataframe thead th {\n",
       "        text-align: right;\n",
       "    }\n",
       "</style>\n",
       "<table border=\"1\" class=\"dataframe\">\n",
       "  <thead>\n",
       "    <tr style=\"text-align: right;\">\n",
       "      <th></th>\n",
       "      <th>checking account</th>\n",
       "      <th>duration [month]</th>\n",
       "      <th>credit history</th>\n",
       "      <th>purpose</th>\n",
       "      <th>amount</th>\n",
       "      <th>savings</th>\n",
       "      <th>employment</th>\n",
       "      <th>installment</th>\n",
       "      <th>status</th>\n",
       "      <th>debtors</th>\n",
       "      <th>...</th>\n",
       "      <th>property</th>\n",
       "      <th>age [years]</th>\n",
       "      <th>plans</th>\n",
       "      <th>housing</th>\n",
       "      <th>existing credits</th>\n",
       "      <th>job</th>\n",
       "      <th>maintaining people</th>\n",
       "      <th>phone registered</th>\n",
       "      <th>foreign worker</th>\n",
       "      <th>classification</th>\n",
       "    </tr>\n",
       "  </thead>\n",
       "  <tbody>\n",
       "    <tr>\n",
       "      <th>0</th>\n",
       "      <td>A11</td>\n",
       "      <td>6</td>\n",
       "      <td>A34</td>\n",
       "      <td>A43</td>\n",
       "      <td>1169</td>\n",
       "      <td>A65</td>\n",
       "      <td>A75</td>\n",
       "      <td>4</td>\n",
       "      <td>A93</td>\n",
       "      <td>A101</td>\n",
       "      <td>...</td>\n",
       "      <td>A121</td>\n",
       "      <td>67</td>\n",
       "      <td>A143</td>\n",
       "      <td>A152</td>\n",
       "      <td>2</td>\n",
       "      <td>A173</td>\n",
       "      <td>1</td>\n",
       "      <td>A192</td>\n",
       "      <td>A201</td>\n",
       "      <td>good</td>\n",
       "    </tr>\n",
       "  </tbody>\n",
       "</table>\n",
       "<p>1 rows × 21 columns</p>\n",
       "</div>"
      ],
      "text/plain": [
       "  checking account  duration [month] credit history purpose  amount savings  \\\n",
       "0              A11                 6            A34     A43    1169     A65   \n",
       "\n",
       "  employment  installment status debtors  ...  property age [years]  plans  \\\n",
       "0        A75            4    A93    A101  ...      A121          67   A143   \n",
       "\n",
       "  housing existing credits   job maintaining people  phone registered  \\\n",
       "0    A152                2  A173                  1              A192   \n",
       "\n",
       "  foreign worker classification  \n",
       "0           A201           good  \n",
       "\n",
       "[1 rows x 21 columns]"
      ]
     },
     "execution_count": 12,
     "metadata": {},
     "output_type": "execute_result"
    }
   ],
   "source": [
    "df = pd.read_csv(\"data/credict_data_german.csv2.csv\")\n",
    "df.head(1)"
   ]
  },
  {
   "cell_type": "code",
   "execution_count": 20,
   "id": "50d706a3-f52c-44e3-b38d-a9f76280571f",
   "metadata": {
    "collapsed": true,
    "jupyter": {
     "outputs_hidden": true
    },
    "tags": []
   },
   "outputs": [
    {
     "data": {
      "image/png": "[encoded data removed]",
      "text/plain": [
       "<Figure size 360x360 with 1 Axes>"
      ]
     },
     "metadata": {},
     "output_type": "display_data"
    },
    {
     "name": "stdout",
     "output_type": "stream",
     "text": [
      "classification        bad       good  Deviation_from_total_ratio\n",
      "A11             49.270073  50.729927                    0.542652\n",
      "A12             39.033457  60.966543                    0.211672\n",
      "A13             22.222222  77.777778                   -0.142857\n",
      "A14             11.675127  88.324873                   -0.296388\n",
      "total           30.000000  70.000000                    0.000000\n",
      "\n",
      "\n",
      "\n"
     ]
    },
    {
     "data": {
      "image/png": "[encoded data removed]",
      "text/plain": [
       "<Figure size 360x360 with 1 Axes>"
      ]
     },
     "metadata": {},
     "output_type": "display_data"
    },
    {
     "name": "stdout",
     "output_type": "stream",
     "text": [
      "classification        bad       good  Deviation_from_total_ratio\n",
      "A30             62.500000  37.500000                    1.238095\n",
      "A31             57.142857  42.857143                    0.904762\n",
      "A32             31.886792  68.113208                    0.039573\n",
      "A33             31.818182  68.181818                    0.038095\n",
      "A34             17.064846  82.935154                   -0.222810\n",
      "total           30.000000  70.000000                    0.000000\n",
      "\n",
      "\n",
      "\n"
     ]
    },
    {
     "data": {
      "image/png": "[encoded data removed]",
      "text/plain": [
       "<Figure size 360x360 with 1 Axes>"
      ]
     },
     "metadata": {},
     "output_type": "display_data"
    },
    {
     "name": "stdout",
     "output_type": "stream",
     "text": [
      "classification        bad       good  Deviation_from_total_ratio\n",
      "A40             38.034188  61.965812                    0.185222\n",
      "A41             16.504854  83.495146                   -0.230897\n",
      "A410            41.666667  58.333333                    0.285714\n",
      "A42             32.044199  67.955801                    0.042973\n",
      "A43             22.142857  77.857143                   -0.144168\n",
      "A44             33.333333  66.666667                    0.071429\n",
      "A45             36.363636  63.636364                    0.142857\n",
      "A46             44.000000  56.000000                    0.357143\n",
      "A48             11.111111  88.888889                   -0.303571\n",
      "A49             35.051546  64.948454                    0.111111\n",
      "total           30.000000  70.000000                    0.000000\n",
      "\n",
      "\n",
      "\n"
     ]
    },
    {
     "data": {
      "image/png": "[encoded data removed]",
      "text/plain": [
       "<Figure size 360x360 with 1 Axes>"
      ]
     },
     "metadata": {},
     "output_type": "display_data"
    },
    {
     "name": "stdout",
     "output_type": "stream",
     "text": [
      "classification        bad       good  Deviation_from_total_ratio\n",
      "A61             35.986733  64.013267                    0.133605\n",
      "A62             33.009709  66.990291                    0.064182\n",
      "A63             17.460317  82.539683                   -0.217033\n",
      "A64             12.500000  87.500000                   -0.285714\n",
      "A65             17.486339  82.513661                   -0.216651\n",
      "total           30.000000  70.000000                    0.000000\n",
      "\n",
      "\n",
      "\n"
     ]
    },
    {
     "data": {
      "image/png": "[encoded data removed]",
      "text/plain": [
       "<Figure size 360x360 with 1 Axes>"
      ]
     },
     "metadata": {},
     "output_type": "display_data"
    },
    {
     "name": "stdout",
     "output_type": "stream",
     "text": [
      "classification        bad       good  Deviation_from_total_ratio\n",
      "A71             37.096774  62.903226                    0.161172\n",
      "A72             40.697674  59.302326                    0.257703\n",
      "A73             30.678466  69.321534                    0.013982\n",
      "A74             22.413793  77.586207                   -0.139683\n",
      "A75             25.296443  74.703557                   -0.089947\n",
      "total           30.000000  70.000000                    0.000000\n",
      "\n",
      "\n",
      "\n"
     ]
    },
    {
     "data": {
      "image/png": "[encoded data removed]",
      "text/plain": [
       "<Figure size 360x360 with 1 Axes>"
      ]
     },
     "metadata": {},
     "output_type": "display_data"
    },
    {
     "name": "stdout",
     "output_type": "stream",
     "text": [
      "classification        bad       good  Deviation_from_total_ratio\n",
      "A91             40.000000  60.000000                    0.238095\n",
      "A92             35.161290  64.838710                    0.113717\n",
      "A93             26.642336  73.357664                   -0.065387\n",
      "A94             27.173913  72.826087                   -0.055437\n",
      "total           30.000000  70.000000                    0.000000\n",
      "\n",
      "\n",
      "\n"
     ]
    },
    {
     "data": {
      "image/png": "[encoded data removed]",
      "text/plain": [
       "<Figure size 360x360 with 1 Axes>"
      ]
     },
     "metadata": {},
     "output_type": "display_data"
    },
    {
     "name": "stdout",
     "output_type": "stream",
     "text": [
      "classification        bad       good  Deviation_from_total_ratio\n",
      "A101            29.988975  70.011025                   -0.000225\n",
      "A102            43.902439  56.097561                    0.354037\n",
      "A103            19.230769  80.769231                   -0.190476\n",
      "total           30.000000  70.000000                    0.000000\n",
      "\n",
      "\n",
      "\n"
     ]
    },
    {
     "data": {
      "image/png": "[encoded data removed]",
      "text/plain": [
       "<Figure size 360x360 with 1 Axes>"
      ]
     },
     "metadata": {},
     "output_type": "display_data"
    },
    {
     "name": "stdout",
     "output_type": "stream",
     "text": [
      "classification        bad       good  Deviation_from_total_ratio\n",
      "A121            21.276596  78.723404                   -0.158301\n",
      "A122            30.603448  69.396552                    0.012422\n",
      "A123            30.722892  69.277108                    0.014907\n",
      "A124            43.506494  56.493506                    0.341544\n",
      "total           30.000000  70.000000                    0.000000\n",
      "\n",
      "\n",
      "\n"
     ]
    },
    {
     "data": {
      "image/png": "[encoded data removed]",
      "text/plain": [
       "<Figure size 360x360 with 1 Axes>"
      ]
     },
     "metadata": {},
     "output_type": "display_data"
    },
    {
     "name": "stdout",
     "output_type": "stream",
     "text": [
      "classification        bad       good  Deviation_from_total_ratio\n",
      "A141            41.007194  58.992806                    0.266551\n",
      "A142            40.425532  59.574468                    0.250000\n",
      "A143            27.518428  72.481572                   -0.048910\n",
      "total           30.000000  70.000000                    0.000000\n",
      "\n",
      "\n",
      "\n"
     ]
    },
    {
     "data": {
      "image/png": "[encoded data removed]",
      "text/plain": [
       "<Figure size 360x360 with 1 Axes>"
      ]
     },
     "metadata": {},
     "output_type": "display_data"
    },
    {
     "name": "stdout",
     "output_type": "stream",
     "text": [
      "classification        bad       good  Deviation_from_total_ratio\n",
      "A151            39.106145  60.893855                    0.213630\n",
      "A152            26.086957  73.913043                   -0.075630\n",
      "A153            40.740741  59.259259                    0.258929\n",
      "total           30.000000  70.000000                    0.000000\n",
      "\n",
      "\n",
      "\n"
     ]
    },
    {
     "data": {
      "image/png": "[encoded data removed]",
      "text/plain": [
       "<Figure size 360x360 with 1 Axes>"
      ]
     },
     "metadata": {},
     "output_type": "display_data"
    },
    {
     "name": "stdout",
     "output_type": "stream",
     "text": [
      "classification        bad       good  Deviation_from_total_ratio\n",
      "A171            31.818182  68.181818                    0.038095\n",
      "A172            28.000000  72.000000                   -0.039683\n",
      "A173            29.523810  70.476190                   -0.009653\n",
      "A174            34.459459  65.540541                    0.097202\n",
      "total           30.000000  70.000000                    0.000000\n",
      "\n",
      "\n",
      "\n"
     ]
    },
    {
     "data": {
      "image/png": "[encoded data removed]",
      "text/plain": [
       "<Figure size 360x360 with 1 Axes>"
      ]
     },
     "metadata": {},
     "output_type": "display_data"
    },
    {
     "name": "stdout",
     "output_type": "stream",
     "text": [
      "classification        bad       good  Deviation_from_total_ratio\n",
      "A191            31.375839  68.624161                    0.028641\n",
      "A192            27.970297  72.029703                   -0.040255\n",
      "total           30.000000  70.000000                    0.000000\n",
      "\n",
      "\n",
      "\n"
     ]
    },
    {
     "data": {
      "image/png": "[encoded data removed]",
      "text/plain": [
       "<Figure size 360x360 with 1 Axes>"
      ]
     },
     "metadata": {},
     "output_type": "display_data"
    },
    {
     "name": "stdout",
     "output_type": "stream",
     "text": [
      "classification        bad       good  Deviation_from_total_ratio\n",
      "A201            30.737279  69.262721                    0.015207\n",
      "A202            10.810811  89.189189                   -0.307359\n",
      "total           30.000000  70.000000                    0.000000\n",
      "\n",
      "\n",
      "\n"
     ]
    },
    {
     "data": {
      "image/png": "[encoded data removed]",
      "text/plain": [
       "<Figure size 360x360 with 1 Axes>"
      ]
     },
     "metadata": {},
     "output_type": "display_data"
    },
    {
     "name": "stdout",
     "output_type": "stream",
     "text": [
      "classification    bad   good  Deviation_from_total_ratio\n",
      "bad             100.0    0.0                         inf\n",
      "good              0.0  100.0                   -0.428571\n",
      "total            30.0   70.0                    0.000000\n",
      "\n",
      "\n",
      "\n"
     ]
    },
    {
     "data": {
      "text/html": [
       "<div>\n",
       "<style scoped>\n",
       "    .dataframe tbody tr th:only-of-type {\n",
       "        vertical-align: middle;\n",
       "    }\n",
       "\n",
       "    .dataframe tbody tr th {\n",
       "        vertical-align: top;\n",
       "    }\n",
       "\n",
       "    .dataframe thead th {\n",
       "        text-align: right;\n",
       "    }\n",
       "</style>\n",
       "<table border=\"1\" class=\"dataframe\">\n",
       "  <thead>\n",
       "    <tr style=\"text-align: right;\">\n",
       "      <th></th>\n",
       "      <th>Feature</th>\n",
       "      <th>p-val</th>\n",
       "    </tr>\n",
       "  </thead>\n",
       "  <tbody>\n",
       "    <tr>\n",
       "      <th>0</th>\n",
       "      <td>checking account</td>\n",
       "      <td>1.218902e-26</td>\n",
       "    </tr>\n",
       "    <tr>\n",
       "      <th>1</th>\n",
       "      <td>duration [month]</td>\n",
       "      <td>6.488050e-12</td>\n",
       "    </tr>\n",
       "    <tr>\n",
       "      <th>2</th>\n",
       "      <td>credit history</td>\n",
       "      <td>1.279187e-12</td>\n",
       "    </tr>\n",
       "    <tr>\n",
       "      <th>3</th>\n",
       "      <td>purpose</td>\n",
       "      <td>1.157491e-04</td>\n",
       "    </tr>\n",
       "    <tr>\n",
       "      <th>4</th>\n",
       "      <td>amount</td>\n",
       "      <td>8.797572e-07</td>\n",
       "    </tr>\n",
       "    <tr>\n",
       "      <th>5</th>\n",
       "      <td>savings</td>\n",
       "      <td>2.761214e-07</td>\n",
       "    </tr>\n",
       "    <tr>\n",
       "      <th>6</th>\n",
       "      <td>employment</td>\n",
       "      <td>1.045452e-03</td>\n",
       "    </tr>\n",
       "  </tbody>\n",
       "</table>\n",
       "</div>"
      ],
      "text/plain": [
       "            Feature         p-val\n",
       "0  checking account  1.218902e-26\n",
       "1  duration [month]  6.488050e-12\n",
       "2    credit history  1.279187e-12\n",
       "3           purpose  1.157491e-04\n",
       "4            amount  8.797572e-07\n",
       "5           savings  2.761214e-07\n",
       "6        employment  1.045452e-03"
      ]
     },
     "execution_count": 20,
     "metadata": {},
     "output_type": "execute_result"
    }
   ],
   "source": [
    "cl_good = df[df[\"classification\"] == \"good\"]\n",
    "cl_bad = df[df[\"classification\"] == \"bad\"]\n",
    "\n",
    "results = pd.DataFrame({\"Feature\": [], \"p-val\": []})\n",
    "\n",
    "for feature in df.columns:\n",
    "    if str(df[feature].dtype) == \"int64\":\n",
    "        _, p_val = ttest_ind(cl_good[feature], cl_bad[feature])\n",
    "    elif str(df[feature].dtype) == \"object\":\n",
    "        contingencyTable = pd.crosstab(df[feature], df[\"classification\"])\n",
    "        chi2, p_val, dof, expectedFreq = chi2_contingency(contingencyTable)\n",
    "        \n",
    "        stackedbarchart_from_contingency(contingencyTable)\n",
    "    else:\n",
    "        print(\"ERROR\")\n",
    "        \n",
    "    results.loc[len(results)] = [feature, p_val]\n",
    "        \n",
    "results.sort_values(by=\"p-val\").reset_index(inplace=True)\n",
    "results.head(7)"
   ]
  },
  {
   "cell_type": "code",
   "execution_count": 25,
   "id": "1ed3184f-e701-4eae-bfe3-a80b9e2b7667",
   "metadata": {},
   "outputs": [],
   "source": [
    "from copy import deepcopy\n",
    "def stackedbarchart_from_contingency(contingencyTable,xlabel=None,title=None):\n",
    "    percentages = []\n",
    "\n",
    "\n",
    "    for i,target_col in enumerate(contingencyTable.columns):\n",
    "        percentage_onelabel = []\n",
    "        for j,label in enumerate(contingencyTable.index):\n",
    "            val = contingencyTable.loc[label][target_col]\n",
    "            summe = contingencyTable.loc[label].sum()\n",
    "            percentage = (val/summe) *100\n",
    "            percentage_onelabel.append(percentage)\n",
    "\n",
    "        val = contingencyTable[target_col].sum()\n",
    "        total = contingencyTable.sum().sum()\n",
    "\n",
    "        percentage_onelabel.append(val*100/total)\n",
    "        percentages.append(percentage_onelabel)\n",
    "\n",
    "\n",
    "    percentages_backup = deepcopy(percentages)\n",
    "    # print('per',percentages)\n",
    "\n",
    "    # add up preceeding percentages for barchart\n",
    "    for i in range(1,len(percentages)):\n",
    "        for j in range(0,len(percentages[i])):\n",
    "            percentages[i][j] += percentages[i-1][j]\n",
    "\n",
    "    # print(percentages,contingencyTable.index)\n",
    "    colors = ['grey','lightgrey','black','dimgrey']\n",
    "    plt.figure(figsize=(5,5))\n",
    "    \n",
    "    # print(percentages)\n",
    "    \n",
    "    labels = list(contingencyTable.index)+['total']\n",
    "    labels = [str(v) for v in labels]\n",
    "\n",
    "    for i in range(len(percentages)-1,-1,-1):\n",
    "        \n",
    "        plt.bar(labels,percentages[i],label=contingencyTable.columns[i],color=colors[i])\n",
    "    \n",
    "    plt.ylabel('Percentage')\n",
    "    plt.xlabel(xlabel)\n",
    "    plt.title(title)\n",
    "    \n",
    "    plt.legend(loc=\"upper right\")\n",
    "    plt.show()\n",
    "\n",
    "    # print('In Percent ',list(contingencyTable.index)+['total'])\n",
    "\n",
    "    data = []\n",
    "    data_transposed = []\n",
    "    for i in range(len(percentages_backup)-1,-1,-1):\n",
    "        # print(contingencyTable.columns[i],percentages_backup[i])\n",
    "        data_transposed.append(percentages_backup[i])\n",
    "\n",
    "    data_transposed = list(reversed(data_transposed))\n",
    "    for i in range(len(data_transposed[0])):\n",
    "        row = []\n",
    "        for j in range(len(data_transposed)):\n",
    "            row.append(data_transposed[j][i])\n",
    "        \n",
    "        data.append(row)\n",
    "    \n",
    "    df = pd.DataFrame(data=data,columns=contingencyTable.columns, index=list(contingencyTable.index)+['total'])\n",
    "    try:\n",
    "        totalratio = df.loc['total'][0] /df.loc['total'][1]\n",
    "        df['Abweichung von Total'] = df.iloc[:,0]/df.iloc[:,1] - totalratio\n",
    "    except:\n",
    "        print('Cant generate total')\n",
    "\n",
    "    print(df)\n",
    "    print(\"\\n\\n\")"
   ]
  },
  {
   "cell_type": "code",
   "execution_count": 26,
   "id": "14a6cd4a-98ae-473b-865d-81e4ed4980bc",
   "metadata": {},
   "outputs": [
    {
     "data": {
      "image/png": "[encoded data removed]",
      "text/plain": [
       "<Figure size 360x360 with 1 Axes>"
      ]
     },
     "metadata": {},
     "output_type": "display_data"
    },
    {
     "name": "stdout",
     "output_type": "stream",
     "text": [
      "classification        bad       good  Abweichung von Total\n",
      "1               25.000000  75.000000             -0.095238\n",
      "2               26.839827  73.160173             -0.061708\n",
      "3               28.662420  71.337580             -0.026786\n",
      "4               33.403361  66.596639              0.073006\n",
      "total           30.000000  70.000000              0.000000\n",
      "\n",
      "\n",
      "\n"
     ]
    }
   ],
   "source": [
    "stackedbarchart_from_contingency(pd.crosstab(df[\"installment\"], df[\"classification\"]))"
   ]
  },
  {
   "cell_type": "code",
   "execution_count": null,
   "id": "b9816fd5-b98b-4877-855c-ebd5b72bc09c",
   "metadata": {},
   "outputs": [],
   "source": []
  }
 ],
 "metadata": {
  "kernelspec": {
   "display_name": "Python 3 (ipykernel)",
   "language": "python",
   "name": "python3"
  },
  "language_info": {
   "codemirror_mode": {
    "name": "ipython",
    "version": 3
   },
   "file_extension": ".py",
   "mimetype": "text/x-python",
   "name": "python",
   "nbconvert_exporter": "python",
   "pygments_lexer": "ipython3",
   "version": "3.9.7"
  }
 },
 "nbformat": 4,
 "nbformat_minor": 5
}
