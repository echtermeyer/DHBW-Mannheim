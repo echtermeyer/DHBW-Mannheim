{
 "cells": [
  {
   "cell_type": "code",
   "execution_count": 1,
   "id": "e9953d50-a0e7-4825-987c-89f08ab9d1dd",
   "metadata": {},
   "outputs": [],
   "source": [
    "import pandas as pd\n",
    "import numpy as np\n",
    "import matplotlib.pyplot as plt\n",
    "\n",
    "from datetime import datetime\n",
    "from scipy import stats\n",
    "from collections import Counter\n",
    "\n",
    "plt.style.use(\"seaborn\")\n",
    "\n",
    "u, s = \"µ\", \"σ\""
   ]
  },
  {
   "cell_type": "code",
   "execution_count": null,
   "id": "5ff193bc-b142-452e-9172-5b9987e8adbf",
   "metadata": {},
   "outputs": [],
   "source": [
    "def test_normal(x):\n",
    "    k2, p = stats.normaltest(x)\n",
    "    alpha = 1e-3\n",
    "    print(\"p = {:g}\".format(p))\n",
    "    if p < alpha:  # null hypothesis: x comes from a normal distribution\n",
    "        print(\"It's not a normal distribution\")\n",
    "    else:\n",
    "        print(\"It's a normal distribution\")\n",
    "        \n",
    "    plt.hist(x)\n",
    "    plt.show()"
   ]
  },
  {
   "cell_type": "markdown",
   "id": "6fb74a94-57af-428c-82e3-82a405fb1c38",
   "metadata": {},
   "source": [
    "# Aufgabe 1"
   ]
  },
  {
   "cell_type": "markdown",
   "id": "3c8513ca-dfe8-4ee9-855e-b26cb602d382",
   "metadata": {},
   "source": []
  },
  {
   "cell_type": "code",
   "execution_count": null,
   "id": "a3eecaa6-c079-4166-b12c-0bfd00ef2283",
   "metadata": {},
   "outputs": [],
   "source": []
  },
  {
   "cell_type": "markdown",
   "id": "268d109e-aa4f-48a7-b027-085d1819d4c1",
   "metadata": {},
   "source": [
    "# Aufgabe 2"
   ]
  },
  {
   "cell_type": "code",
   "execution_count": null,
   "id": "1cdfbecc-f96e-4872-a058-be8be1e5451d",
   "metadata": {},
   "outputs": [],
   "source": []
  },
  {
   "cell_type": "code",
   "execution_count": null,
   "id": "135cd1fa-4e51-41e3-87fc-09400a9f48e9",
   "metadata": {},
   "outputs": [],
   "source": []
  },
  {
   "cell_type": "markdown",
   "id": "196c1608-9019-4535-8a07-2d581097e023",
   "metadata": {},
   "source": [
    "# Aufgabe 3"
   ]
  },
  {
   "cell_type": "code",
   "execution_count": null,
   "id": "ffed73a2-42f5-4669-90d6-4f194594c8c9",
   "metadata": {},
   "outputs": [],
   "source": []
  },
  {
   "cell_type": "code",
   "execution_count": null,
   "id": "5ba30d32-2985-4c1e-86c2-c3d99c3c2f65",
   "metadata": {},
   "outputs": [],
   "source": []
  }
 ],
 "metadata": {
  "kernelspec": {
   "display_name": "Python 3 (ipykernel)",
   "language": "python",
   "name": "python3"
  },
  "language_info": {
   "codemirror_mode": {
    "name": "ipython",
    "version": 3
   },
   "file_extension": ".py",
   "mimetype": "text/x-python",
   "name": "python",
   "nbconvert_exporter": "python",
   "pygments_lexer": "ipython3",
   "version": "3.9.7"
  }
 },
 "nbformat": 4,
 "nbformat_minor": 5
}
