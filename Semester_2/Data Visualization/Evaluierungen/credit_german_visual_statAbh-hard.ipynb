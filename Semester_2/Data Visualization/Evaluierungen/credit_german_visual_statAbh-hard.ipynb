{
 "cells": [
  {
   "cell_type": "code",
   "execution_count": 22,
   "metadata": {
    "scrolled": true
   },
   "outputs": [
    {
     "name": "stdout",
     "output_type": "stream",
     "text": [
      "checking account      object\n",
      "duration [month]       int64\n",
      "credit history        object\n",
      "purpose               object\n",
      "amount                 int64\n",
      "savings               object\n",
      "employment            object\n",
      "installment            int64\n",
      "status                object\n",
      "debtors               object\n",
      "resident since         int64\n",
      "property              object\n",
      "age [years]            int64\n",
      "plans                 object\n",
      "housing               object\n",
      "existing credits       int64\n",
      "job                   object\n",
      "maintaining people     int64\n",
      "phone registered      object\n",
      "foreign worker        object\n",
      "classification        object\n",
      "dtype: object\n"
     ]
    }
   ],
   "source": [
    "import pandas as p\n",
    "credit=p.read_csv(\"credictcard_data_german.csv\",sep=\" \")\n",
    "print(credit.dtypes)\n",
    "#credit.describe()"
   ]
  },
  {
   "cell_type": "markdown",
   "metadata": {},
   "source": [
    "### A Korrelation zwischen intervallskalierten Variablen\n",
    "Erstellen Sie ein Balkendiagramm, welches die 10 stärksten Korrelationen zwischen intervallskalierten Variablen sortiert visuell darstellt (von hoher Korrelation zu niedriger Korrelation). "
   ]
  },
  {
   "cell_type": "code",
   "execution_count": 88,
   "metadata": {
    "scrolled": true
   },
   "outputs": [
    {
     "data": {
      "text/html": [
       "<div>\n",
       "<style scoped>\n",
       "    .dataframe tbody tr th:only-of-type {\n",
       "        vertical-align: middle;\n",
       "    }\n",
       "\n",
       "    .dataframe tbody tr th {\n",
       "        vertical-align: top;\n",
       "    }\n",
       "\n",
       "    .dataframe thead th {\n",
       "        text-align: right;\n",
       "    }\n",
       "</style>\n",
       "<table border=\"1\" class=\"dataframe\">\n",
       "  <thead>\n",
       "    <tr style=\"text-align: right;\">\n",
       "      <th></th>\n",
       "      <th>duration [month]</th>\n",
       "      <th>amount</th>\n",
       "      <th>installment</th>\n",
       "      <th>resident since</th>\n",
       "      <th>age [years]</th>\n",
       "      <th>existing credits</th>\n",
       "      <th>maintaining people</th>\n",
       "    </tr>\n",
       "  </thead>\n",
       "  <tbody>\n",
       "    <tr>\n",
       "      <th>duration [month]</th>\n",
       "      <td>1.000000</td>\n",
       "      <td>0.624984</td>\n",
       "      <td>0.074749</td>\n",
       "      <td>0.034067</td>\n",
       "      <td>-0.036136</td>\n",
       "      <td>-0.011284</td>\n",
       "      <td>-0.023834</td>\n",
       "    </tr>\n",
       "    <tr>\n",
       "      <th>amount</th>\n",
       "      <td>0.624984</td>\n",
       "      <td>1.000000</td>\n",
       "      <td>-0.271316</td>\n",
       "      <td>0.028926</td>\n",
       "      <td>0.032716</td>\n",
       "      <td>0.020795</td>\n",
       "      <td>0.017142</td>\n",
       "    </tr>\n",
       "    <tr>\n",
       "      <th>installment</th>\n",
       "      <td>0.074749</td>\n",
       "      <td>-0.271316</td>\n",
       "      <td>1.000000</td>\n",
       "      <td>0.049302</td>\n",
       "      <td>0.058266</td>\n",
       "      <td>0.021669</td>\n",
       "      <td>-0.071207</td>\n",
       "    </tr>\n",
       "    <tr>\n",
       "      <th>resident since</th>\n",
       "      <td>0.034067</td>\n",
       "      <td>0.028926</td>\n",
       "      <td>0.049302</td>\n",
       "      <td>1.000000</td>\n",
       "      <td>0.266419</td>\n",
       "      <td>0.089625</td>\n",
       "      <td>0.042643</td>\n",
       "    </tr>\n",
       "    <tr>\n",
       "      <th>age [years]</th>\n",
       "      <td>-0.036136</td>\n",
       "      <td>0.032716</td>\n",
       "      <td>0.058266</td>\n",
       "      <td>0.266419</td>\n",
       "      <td>1.000000</td>\n",
       "      <td>0.149254</td>\n",
       "      <td>0.118201</td>\n",
       "    </tr>\n",
       "    <tr>\n",
       "      <th>existing credits</th>\n",
       "      <td>-0.011284</td>\n",
       "      <td>0.020795</td>\n",
       "      <td>0.021669</td>\n",
       "      <td>0.089625</td>\n",
       "      <td>0.149254</td>\n",
       "      <td>1.000000</td>\n",
       "      <td>0.109667</td>\n",
       "    </tr>\n",
       "    <tr>\n",
       "      <th>maintaining people</th>\n",
       "      <td>-0.023834</td>\n",
       "      <td>0.017142</td>\n",
       "      <td>-0.071207</td>\n",
       "      <td>0.042643</td>\n",
       "      <td>0.118201</td>\n",
       "      <td>0.109667</td>\n",
       "      <td>1.000000</td>\n",
       "    </tr>\n",
       "  </tbody>\n",
       "</table>\n",
       "</div>"
      ],
      "text/plain": [
       "                    duration [month]    amount  installment  resident since  \\\n",
       "duration [month]            1.000000  0.624984     0.074749        0.034067   \n",
       "amount                      0.624984  1.000000    -0.271316        0.028926   \n",
       "installment                 0.074749 -0.271316     1.000000        0.049302   \n",
       "resident since              0.034067  0.028926     0.049302        1.000000   \n",
       "age [years]                -0.036136  0.032716     0.058266        0.266419   \n",
       "existing credits           -0.011284  0.020795     0.021669        0.089625   \n",
       "maintaining people         -0.023834  0.017142    -0.071207        0.042643   \n",
       "\n",
       "                    age [years]  existing credits  maintaining people  \n",
       "duration [month]      -0.036136         -0.011284           -0.023834  \n",
       "amount                 0.032716          0.020795            0.017142  \n",
       "installment            0.058266          0.021669           -0.071207  \n",
       "resident since         0.266419          0.089625            0.042643  \n",
       "age [years]            1.000000          0.149254            0.118201  \n",
       "existing credits       0.149254          1.000000            0.109667  \n",
       "maintaining people     0.118201          0.109667            1.000000  "
      ]
     },
     "execution_count": 88,
     "metadata": {},
     "output_type": "execute_result"
    }
   ],
   "source": [
    "credit.corr()#zeigt die Korrelation aller intervallskalierten Variablen in einer Korrelationsmatrix"
   ]
  },
  {
   "cell_type": "code",
   "execution_count": 11,
   "metadata": {},
   "outputs": [],
   "source": [
    "#Algorithmus um konkrete Korrelation zu berechnen (nicht die komplette Korrelationsmatrix)\n",
    "coors=[];\n",
    "names=[]\n",
    "correlations=[]\n",
    "for var in credit.dtypes.items():\n",
    "    if var[1].name==\"int64\":\n",
    "        \n",
    "        for othervar in credit.dtypes.items():\n",
    "            if (var[0]==othervar[0]):\n",
    "                break\n",
    "            if ((othervar[1].name==\"int64\") ):        \n",
    "                \n",
    "                correlation=credit[var[0]].corr(credit[othervar[0]])\n",
    "                #print(var[0],othervar[0],\"correl:\",correlation)\n",
    "                names.append(var[0]+\"-\"+othervar[0])\n",
    "                coors.append(correlation)\n",
    "                correlations.append([abs(correlation),correlation,var[0]+\"-\"+othervar[0]])\n",
    "                #add name and coors\n",
    "                \n",
    "\n"
   ]
  },
  {
   "cell_type": "code",
   "execution_count": 13,
   "metadata": {
    "scrolled": true
   },
   "outputs": [
    {
     "data": {
      "image/png": "[encoded data removed]",
      "text/plain": [
       "<Figure size 432x288 with 1 Axes>"
      ]
     },
     "metadata": {
      "needs_background": "light"
     },
     "output_type": "display_data"
    }
   ],
   "source": [
    "import matplotlib.pyplot as pp\n",
    "import numpy as n\n",
    "correlations.sort(reverse=True)\n",
    "heights=[]\n",
    "labels=[]\n",
    "for i in range(10):\n",
    "    correlation=correlations[i]\n",
    "    heights.append(correlation[0])\n",
    "    labels.append(correlation[2])\n",
    "    \n",
    "figure,axis=pp.subplots()\n",
    "pp.xticks(rotation=90)\n",
    "axis.bar(x=n.arange(len(heights)),height=heights,tick_label=labels,color=\"gray\")\n",
    "axis.set_ylabel(\"Pearson Correlation\");\n"
   ]
  },
  {
   "cell_type": "markdown",
   "metadata": {},
   "source": [
    "#### Streudiagramm zwischen amount & duration [month]"
   ]
  },
  {
   "cell_type": "code",
   "execution_count": 11,
   "metadata": {},
   "outputs": [
    {
     "data": {
      "image/png": "[encoded data removed]",
      "text/plain": [
       "<Figure size 432x288 with 1 Axes>"
      ]
     },
     "metadata": {
      "needs_background": "light"
     },
     "output_type": "display_data"
    }
   ],
   "source": [
    "import matplotlib.pyplot as pp\n",
    "figure,axis=pp.subplots()\n",
    "axis.plot(credit[\"duration [month]\"],credit.amount,\".\",color=\"gray\",markersize=2)\n",
    "axis.set_xlabel(\"duration in month\");\n",
    "axis.set_ylabel(\"credit amount in Dollar\");\n",
    "figure.suptitle(\"Streudiagramm zwischen Duration & Amount\");\n",
    "    "
   ]
  },
  {
   "cell_type": "markdown",
   "metadata": {},
   "source": [
    "### B Bewertung von Gruppen\n",
    "Messen Sie die stat. Abhängig von duration mit der Zielvariablen classification. Stellen Sie die Mittelwerte und Std-Abweichungen von duration getrennt nach den Ausprägungen der Zielvariablen visuell dar."
   ]
  },
  {
   "cell_type": "code",
   "execution_count": 21,
   "metadata": {},
   "outputs": [
    {
     "name": "stdout",
     "output_type": "stream",
     "text": [
      "var duration [month] tval= 7.0 pval= 0.0 mean+=19.2 mean-=24.9\n",
      "var amount tval= 4.9 pval= 0.0 mean+=2985.5 mean-=3938.1\n",
      "var installment tval= 2.3 pval= 0.0 mean+=2.9 mean-=3.1\n",
      "var resident since tval= 0.1 pval= 0.9 mean+=2.8 mean-=2.9\n",
      "var age [years] tval= 2.9 pval= 0.0 mean+=36.2 mean-=34.0\n",
      "var existing credits tval= 1.4 pval= 0.1 mean+=1.4 mean-=1.4\n",
      "var maintaining people tval= 0.1 pval= 0.9 mean+=1.2 mean-=1.2\n"
     ]
    }
   ],
   "source": [
    "from scipy.stats  import ttest_ind\n",
    "subset_good=credit[credit.classification==\"good\"]\n",
    "subset_bad=credit[credit.classification==\"bad\"]\n",
    "for testvar in credit.keys():\n",
    "    if credit.dtypes[testvar]==\"int64\": #int64 == interval scaled variable\n",
    "        tval,pval=ttest_ind(subset_good[testvar],subset_bad[testvar])\n",
    "        meanGood=subset_good[testvar].mean();\n",
    "        stdGood=subset_good[testvar].mean();\n",
    "        meanBad=subset_bad[testvar].mean();\n",
    "        stdBad=subset_bad[testvar].mean();\n",
    "        print(\"var\",testvar,\"tval=\",'{:.1f}'.format(abs(tval)),\"pval=\",'{:.1f}'.format(pval),\"mean+=\"+'{:.1f}'.format(meanGood),\"mean-=\"+'{:.1f}'.format(meanBad))\n"
   ]
  },
  {
   "cell_type": "code",
   "execution_count": 93,
   "metadata": {
    "scrolled": true
   },
   "outputs": [
    {
     "name": "stdout",
     "output_type": "stream",
     "text": [
      "[19.207142857142856, 24.86] [[0, 0], [11.079564266189928, 13.282638856163995]]\n"
     ]
    },
    {
     "data": {
      "image/png": "[encoded data removed]",
      "text/plain": [
       "<Figure size 288x360 with 1 Axes>"
      ]
     },
     "metadata": {
      "needs_background": "light"
     },
     "output_type": "display_data"
    }
   ],
   "source": [
    "figure,axis=pp.subplots(figsize=(4,5))\n",
    "heights=[subset_good[\"duration [month]\"].mean(),subset_bad[\"duration [month]\"].mean()]\n",
    "stds=[[0,0],[subset_good[\"duration [month]\"].std(),subset_bad[\"duration [month]\"].std()]]\n",
    "print(heights,stds)\n",
    "axis.bar(x=n.arange(len(heights)),height=heights,tick_label=[\"good\",\"bad\"],color=\"gray\",yerr=stds,ecolor=\"gray\",width=0.4,capsize=4)\n",
    "axis.set_ylabel(\"Mean duration in Months\");\n",
    "axis.set_xlabel(\"Classification of credit\");\n"
   ]
  },
  {
   "cell_type": "markdown",
   "metadata": {},
   "source": [
    "good: $\\mu=19.2 \\pm \\sigma=11.1$ Monate  bad: $\\mu=24.8 \\pm \\sigma=13.3$ Monate"
   ]
  },
  {
   "cell_type": "markdown",
   "metadata": {},
   "source": [
    "### C Bewertung kategorischer Variablen\n",
    "Geben Sie die Kontingenztabelle von i) checking account vs classification und ii) job vs classification mitsamt X²-Wert und p-Wert an. Welche Aussage kann aus dem p-Wert und der Kontingenztabelle abgeleitet werden?"
   ]
  },
  {
   "cell_type": "code",
   "execution_count": 42,
   "metadata": {},
   "outputs": [],
   "source": [
    "from scipy.stats import chi2_contingency\n",
    "def chisquare(varname):\n",
    "    contingencyTable=p.crosstab(credit[varname],credit.classification)\n",
    "    chi2,pval,dof,expectedFreq=chi2_contingency(contingencyTable)\n",
    "    print(\"testvar:\",varname,\"chi2=\",'{:.1f}'.format(chi2),\"pval=\",'{:.5f}'.format(pval),\"dof=\",dof)#show pval in non-scienetific expression\n",
    "    return contingencyTable"
   ]
  },
  {
   "cell_type": "code",
   "execution_count": 32,
   "metadata": {},
   "outputs": [
    {
     "name": "stdout",
     "output_type": "stream",
     "text": [
      "\n",
      "\n",
      "testvar: job chi2= 1.9 pval= 0.6 dof= 3\n"
     ]
    },
    {
     "data": {
      "text/html": [
       "<div>\n",
       "<style scoped>\n",
       "    .dataframe tbody tr th:only-of-type {\n",
       "        vertical-align: middle;\n",
       "    }\n",
       "\n",
       "    .dataframe tbody tr th {\n",
       "        vertical-align: top;\n",
       "    }\n",
       "\n",
       "    .dataframe thead th {\n",
       "        text-align: right;\n",
       "    }\n",
       "</style>\n",
       "<table border=\"1\" class=\"dataframe\">\n",
       "  <thead>\n",
       "    <tr style=\"text-align: right;\">\n",
       "      <th>classification</th>\n",
       "      <th>bad</th>\n",
       "      <th>good</th>\n",
       "    </tr>\n",
       "    <tr>\n",
       "      <th>job</th>\n",
       "      <th></th>\n",
       "      <th></th>\n",
       "    </tr>\n",
       "  </thead>\n",
       "  <tbody>\n",
       "    <tr>\n",
       "      <th>A171</th>\n",
       "      <td>7</td>\n",
       "      <td>15</td>\n",
       "    </tr>\n",
       "    <tr>\n",
       "      <th>A172</th>\n",
       "      <td>56</td>\n",
       "      <td>144</td>\n",
       "    </tr>\n",
       "    <tr>\n",
       "      <th>A173</th>\n",
       "      <td>186</td>\n",
       "      <td>444</td>\n",
       "    </tr>\n",
       "    <tr>\n",
       "      <th>A174</th>\n",
       "      <td>51</td>\n",
       "      <td>97</td>\n",
       "    </tr>\n",
       "  </tbody>\n",
       "</table>\n",
       "</div>"
      ],
      "text/plain": [
       "classification  bad  good\n",
       "job                      \n",
       "A171              7    15\n",
       "A172             56   144\n",
       "A173            186   444\n",
       "A174             51    97"
      ]
     },
     "execution_count": 32,
     "metadata": {},
     "output_type": "execute_result"
    }
   ],
   "source": [
    "chisquare(\"job\")"
   ]
  },
  {
   "cell_type": "code",
   "execution_count": 80,
   "metadata": {},
   "outputs": [
    {
     "name": "stdout",
     "output_type": "stream",
     "text": [
      "\n",
      "\n",
      "testvar: checking account chi2= 123.72094351626559 pval= 0.000000 dof= 3\n"
     ]
    },
    {
     "data": {
      "text/html": [
       "<div>\n",
       "<style scoped>\n",
       "    .dataframe tbody tr th:only-of-type {\n",
       "        vertical-align: middle;\n",
       "    }\n",
       "\n",
       "    .dataframe tbody tr th {\n",
       "        vertical-align: top;\n",
       "    }\n",
       "\n",
       "    .dataframe thead th {\n",
       "        text-align: right;\n",
       "    }\n",
       "</style>\n",
       "<table border=\"1\" class=\"dataframe\">\n",
       "  <thead>\n",
       "    <tr style=\"text-align: right;\">\n",
       "      <th>classification</th>\n",
       "      <th>bad</th>\n",
       "      <th>good</th>\n",
       "    </tr>\n",
       "    <tr>\n",
       "      <th>checking account</th>\n",
       "      <th></th>\n",
       "      <th></th>\n",
       "    </tr>\n",
       "  </thead>\n",
       "  <tbody>\n",
       "    <tr>\n",
       "      <th>A11</th>\n",
       "      <td>135</td>\n",
       "      <td>139</td>\n",
       "    </tr>\n",
       "    <tr>\n",
       "      <th>A12</th>\n",
       "      <td>105</td>\n",
       "      <td>164</td>\n",
       "    </tr>\n",
       "    <tr>\n",
       "      <th>A13</th>\n",
       "      <td>14</td>\n",
       "      <td>49</td>\n",
       "    </tr>\n",
       "    <tr>\n",
       "      <th>A14</th>\n",
       "      <td>46</td>\n",
       "      <td>348</td>\n",
       "    </tr>\n",
       "  </tbody>\n",
       "</table>\n",
       "</div>"
      ],
      "text/plain": [
       "classification    bad  good\n",
       "checking account           \n",
       "A11               135   139\n",
       "A12               105   164\n",
       "A13                14    49\n",
       "A14                46   348"
      ]
     },
     "execution_count": 80,
     "metadata": {},
     "output_type": "execute_result"
    }
   ],
   "source": [
    "chisquare(\"checking account\")"
   ]
  },
  {
   "cell_type": "code",
   "execution_count": 44,
   "metadata": {
    "scrolled": true
   },
   "outputs": [
    {
     "name": "stdout",
     "output_type": "stream",
     "text": [
      "testvar: credit history chi2= 61.7 pval= 0.00000 dof= 4\n"
     ]
    },
    {
     "data": {
      "text/html": [
       "<div>\n",
       "<style scoped>\n",
       "    .dataframe tbody tr th:only-of-type {\n",
       "        vertical-align: middle;\n",
       "    }\n",
       "\n",
       "    .dataframe tbody tr th {\n",
       "        vertical-align: top;\n",
       "    }\n",
       "\n",
       "    .dataframe thead th {\n",
       "        text-align: right;\n",
       "    }\n",
       "</style>\n",
       "<table border=\"1\" class=\"dataframe\">\n",
       "  <thead>\n",
       "    <tr style=\"text-align: right;\">\n",
       "      <th>classification</th>\n",
       "      <th>bad</th>\n",
       "      <th>good</th>\n",
       "    </tr>\n",
       "    <tr>\n",
       "      <th>credit history</th>\n",
       "      <th></th>\n",
       "      <th></th>\n",
       "    </tr>\n",
       "  </thead>\n",
       "  <tbody>\n",
       "    <tr>\n",
       "      <th>A30</th>\n",
       "      <td>25</td>\n",
       "      <td>15</td>\n",
       "    </tr>\n",
       "    <tr>\n",
       "      <th>A31</th>\n",
       "      <td>28</td>\n",
       "      <td>21</td>\n",
       "    </tr>\n",
       "    <tr>\n",
       "      <th>A32</th>\n",
       "      <td>169</td>\n",
       "      <td>361</td>\n",
       "    </tr>\n",
       "    <tr>\n",
       "      <th>A33</th>\n",
       "      <td>28</td>\n",
       "      <td>60</td>\n",
       "    </tr>\n",
       "    <tr>\n",
       "      <th>A34</th>\n",
       "      <td>50</td>\n",
       "      <td>243</td>\n",
       "    </tr>\n",
       "  </tbody>\n",
       "</table>\n",
       "</div>"
      ],
      "text/plain": [
       "classification  bad  good\n",
       "credit history           \n",
       "A30              25    15\n",
       "A31              28    21\n",
       "A32             169   361\n",
       "A33              28    60\n",
       "A34              50   243"
      ]
     },
     "execution_count": 44,
     "metadata": {},
     "output_type": "execute_result"
    }
   ],
   "source": [
    "chisquare(\"credit history\")"
   ]
  },
  {
   "cell_type": "code",
   "execution_count": 45,
   "metadata": {},
   "outputs": [
    {
     "name": "stdout",
     "output_type": "stream",
     "text": [
      "testvar: savings chi2= 36.1 pval= 0.00000 dof= 4\n"
     ]
    },
    {
     "data": {
      "text/html": [
       "<div>\n",
       "<style scoped>\n",
       "    .dataframe tbody tr th:only-of-type {\n",
       "        vertical-align: middle;\n",
       "    }\n",
       "\n",
       "    .dataframe tbody tr th {\n",
       "        vertical-align: top;\n",
       "    }\n",
       "\n",
       "    .dataframe thead th {\n",
       "        text-align: right;\n",
       "    }\n",
       "</style>\n",
       "<table border=\"1\" class=\"dataframe\">\n",
       "  <thead>\n",
       "    <tr style=\"text-align: right;\">\n",
       "      <th>classification</th>\n",
       "      <th>bad</th>\n",
       "      <th>good</th>\n",
       "    </tr>\n",
       "    <tr>\n",
       "      <th>savings</th>\n",
       "      <th></th>\n",
       "      <th></th>\n",
       "    </tr>\n",
       "  </thead>\n",
       "  <tbody>\n",
       "    <tr>\n",
       "      <th>A61</th>\n",
       "      <td>217</td>\n",
       "      <td>386</td>\n",
       "    </tr>\n",
       "    <tr>\n",
       "      <th>A62</th>\n",
       "      <td>34</td>\n",
       "      <td>69</td>\n",
       "    </tr>\n",
       "    <tr>\n",
       "      <th>A63</th>\n",
       "      <td>11</td>\n",
       "      <td>52</td>\n",
       "    </tr>\n",
       "    <tr>\n",
       "      <th>A64</th>\n",
       "      <td>6</td>\n",
       "      <td>42</td>\n",
       "    </tr>\n",
       "    <tr>\n",
       "      <th>A65</th>\n",
       "      <td>32</td>\n",
       "      <td>151</td>\n",
       "    </tr>\n",
       "  </tbody>\n",
       "</table>\n",
       "</div>"
      ],
      "text/plain": [
       "classification  bad  good\n",
       "savings                  \n",
       "A61             217   386\n",
       "A62              34    69\n",
       "A63              11    52\n",
       "A64               6    42\n",
       "A65              32   151"
      ]
     },
     "execution_count": 45,
     "metadata": {},
     "output_type": "execute_result"
    }
   ],
   "source": [
    "chisquare(\"savings\")"
   ]
  },
  {
   "cell_type": "markdown",
   "metadata": {},
   "source": [
    "#### Check über alle kategorischen Variab´len"
   ]
  },
  {
   "cell_type": "code",
   "execution_count": 43,
   "metadata": {},
   "outputs": [
    {
     "name": "stdout",
     "output_type": "stream",
     "text": [
      "testvar: checking account chi2= 123.7 pval= 0.00000 dof= 3\n",
      "testvar: credit history chi2= 61.7 pval= 0.00000 dof= 4\n",
      "testvar: purpose chi2= 33.4 pval= 0.00012 dof= 9\n",
      "testvar: savings chi2= 36.1 pval= 0.00000 dof= 4\n",
      "testvar: employment chi2= 18.4 pval= 0.00105 dof= 4\n",
      "testvar: status chi2= 9.6 pval= 0.02224 dof= 3\n",
      "testvar: debtors chi2= 6.6 pval= 0.03606 dof= 2\n",
      "testvar: property chi2= 23.7 pval= 0.00003 dof= 3\n",
      "testvar: plans chi2= 12.8 pval= 0.00163 dof= 2\n",
      "testvar: housing chi2= 18.2 pval= 0.00011 dof= 2\n",
      "testvar: job chi2= 1.9 pval= 0.59658 dof= 3\n",
      "testvar: phone registered chi2= 1.2 pval= 0.27888 dof= 1\n",
      "testvar: foreign worker chi2= 5.8 pval= 0.01583 dof= 1\n"
     ]
    }
   ],
   "source": [
    "for var in credit.dtypes.items():\n",
    "    if var[1].name==\"object\" and var[0]!=\"classification\":\n",
    "        chisquare(var[0])"
   ]
  }
 ],
 "metadata": {
  "kernelspec": {
   "display_name": "Python 3 (ipykernel)",
   "language": "python",
   "name": "python3"
  },
  "language_info": {
   "codemirror_mode": {
    "name": "ipython",
    "version": 3
   },
   "file_extension": ".py",
   "mimetype": "text/x-python",
   "name": "python",
   "nbconvert_exporter": "python",
   "pygments_lexer": "ipython3",
   "version": "3.9.7"
  }
 },
 "nbformat": 4,
 "nbformat_minor": 4
}
